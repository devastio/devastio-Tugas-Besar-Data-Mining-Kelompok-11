{
  "nbformat": 4,
  "nbformat_minor": 0,
  "metadata": {
    "colab": {
      "name": "TUBES_DAMIN.ipynb",
      "provenance": [],
      "collapsed_sections": [],
      "toc_visible": true,
      "include_colab_link": true
    },
    "kernelspec": {
      "name": "python3",
      "display_name": "Python 3"
    }
  },
  "cells": [
    {
      "cell_type": "markdown",
      "metadata": {
        "id": "view-in-github",
        "colab_type": "text"
      },
      "source": [
        "<a href=\"https://colab.research.google.com/github/devastio/devastio-Tugas-Besar-Data-Mining-Kelompok-11/blob/master/TUBES_DAMIN.ipynb\" target=\"_parent\"><img src=\"https://colab.research.google.com/assets/colab-badge.svg\" alt=\"Open In Colab\"/></a>"
      ]
    },
    {
      "cell_type": "markdown",
      "metadata": {
        "id": "sy93HEfYd__g",
        "colab_type": "text"
      },
      "source": [
        "# **Tugas Besar Data Mining SIDE-40-GAB01**\n",
        "Kelompok 11\n",
        "\n",
        "Anggota : \n",
        "- Ahmad Farhan Juliansyah (1301174094)\n",
        "- Fey Devastio Putra Naldi (1301174070)\n",
        "- Rifqi Ahmad Fauzi (1301174321) "
      ]
    },
    {
      "cell_type": "code",
      "metadata": {
        "id": "mq1TEvIRb8PD",
        "colab_type": "code",
        "outputId": "1821dfe3-20ba-4572-b255-3fabdd048c54",
        "colab": {
          "base_uri": "https://localhost:8080/",
          "height": 125
        }
      },
      "source": [
        "from google.colab import drive\n",
        "import pandas as pd\n",
        "drive.mount('/content/drive/')"
      ],
      "execution_count": 0,
      "outputs": [
        {
          "output_type": "stream",
          "text": [
            "Go to this URL in a browser: https://accounts.google.com/o/oauth2/auth?client_id=947318989803-6bn6qk8qdgf4n4g3pfee6491hc0brc4i.apps.googleusercontent.com&redirect_uri=urn%3aietf%3awg%3aoauth%3a2.0%3aoob&response_type=code&scope=email%20https%3a%2f%2fwww.googleapis.com%2fauth%2fdocs.test%20https%3a%2f%2fwww.googleapis.com%2fauth%2fdrive%20https%3a%2f%2fwww.googleapis.com%2fauth%2fdrive.photos.readonly%20https%3a%2f%2fwww.googleapis.com%2fauth%2fpeopleapi.readonly\n",
            "\n",
            "Enter your authorization code:\n",
            "··········\n",
            "Mounted at /content/drive/\n"
          ],
          "name": "stdout"
        }
      ]
    },
    {
      "cell_type": "code",
      "metadata": {
        "id": "A9AESXjNb_Ww",
        "colab_type": "code",
        "outputId": "15419844-8a2a-468d-d9f5-62b740992452",
        "colab": {
          "base_uri": "https://localhost:8080/",
          "height": 52
        }
      },
      "source": [
        "dataset = pd.read_csv(r'/content/drive/My Drive/merchandise_values_annual_dataset.csv', encoding='latin-1')"
      ],
      "execution_count": 0,
      "outputs": [
        {
          "output_type": "stream",
          "text": [
            "/usr/local/lib/python3.6/dist-packages/IPython/core/interactiveshell.py:2718: DtypeWarning: Columns (3,4,6,7,20,21) have mixed types.Specify dtype option on import or set low_memory=False.\n",
            "  interactivity=interactivity, compiler=compiler, result=result)\n"
          ],
          "name": "stderr"
        }
      ]
    },
    {
      "cell_type": "markdown",
      "metadata": {
        "id": "SrQRXTdOYpWb",
        "colab_type": "text"
      },
      "source": [
        "## **Dataset yang digunakan**"
      ]
    },
    {
      "cell_type": "code",
      "metadata": {
        "id": "C1ximS_Acs55",
        "colab_type": "code",
        "outputId": "4a921dea-55f6-409e-feb6-b1dd3df347f9",
        "colab": {
          "base_uri": "https://localhost:8080/",
          "height": 1000
        }
      },
      "source": [
        "dataset"
      ],
      "execution_count": 0,
      "outputs": [
        {
          "output_type": "execute_result",
          "data": {
            "text/html": [
              "<div>\n",
              "<style scoped>\n",
              "    .dataframe tbody tr th:only-of-type {\n",
              "        vertical-align: middle;\n",
              "    }\n",
              "\n",
              "    .dataframe tbody tr th {\n",
              "        vertical-align: top;\n",
              "    }\n",
              "\n",
              "    .dataframe thead th {\n",
              "        text-align: right;\n",
              "    }\n",
              "</style>\n",
              "<table border=\"1\" class=\"dataframe\">\n",
              "  <thead>\n",
              "    <tr style=\"text-align: right;\">\n",
              "      <th></th>\n",
              "      <th>IndicatorCategory</th>\n",
              "      <th>IndicatorCode</th>\n",
              "      <th>Indicator</th>\n",
              "      <th>ReporterCode</th>\n",
              "      <th>ReporterISO3A</th>\n",
              "      <th>Reporter</th>\n",
              "      <th>PartnerCode</th>\n",
              "      <th>PartnerISO3A</th>\n",
              "      <th>Partner</th>\n",
              "      <th>ProductClassificationCode</th>\n",
              "      <th>ProductClassification</th>\n",
              "      <th>ProductCode</th>\n",
              "      <th>Product</th>\n",
              "      <th>PeriodCode</th>\n",
              "      <th>Period</th>\n",
              "      <th>FrequencyCode</th>\n",
              "      <th>Frequency</th>\n",
              "      <th>UnitCode</th>\n",
              "      <th>Unit</th>\n",
              "      <th>Year</th>\n",
              "      <th>ValueFlagCode</th>\n",
              "      <th>ValueFlag</th>\n",
              "      <th>Value</th>\n",
              "    </tr>\n",
              "  </thead>\n",
              "  <tbody>\n",
              "    <tr>\n",
              "      <th>0</th>\n",
              "      <td>Merchandise trade values</td>\n",
              "      <td>ITS_MTV_AM</td>\n",
              "      <td>Merchandise imports by product group - annual</td>\n",
              "      <td>414</td>\n",
              "      <td>KWT</td>\n",
              "      <td>Kuwait, the State of</td>\n",
              "      <td>0</td>\n",
              "      <td>NaN</td>\n",
              "      <td>World</td>\n",
              "      <td>SITC3</td>\n",
              "      <td>Merchandise - SITC Revision 3 (aggregates)</td>\n",
              "      <td>AG</td>\n",
              "      <td>Agricultural products</td>\n",
              "      <td>A</td>\n",
              "      <td>Annual</td>\n",
              "      <td>A</td>\n",
              "      <td>Annual</td>\n",
              "      <td>USM</td>\n",
              "      <td>Million US dollar</td>\n",
              "      <td>1985</td>\n",
              "      <td>NaN</td>\n",
              "      <td>NaN</td>\n",
              "      <td>722</td>\n",
              "    </tr>\n",
              "    <tr>\n",
              "      <th>1</th>\n",
              "      <td>Merchandise trade values</td>\n",
              "      <td>ITS_MTV_AM</td>\n",
              "      <td>Merchandise imports by product group - annual</td>\n",
              "      <td>414</td>\n",
              "      <td>KWT</td>\n",
              "      <td>Kuwait, the State of</td>\n",
              "      <td>0</td>\n",
              "      <td>NaN</td>\n",
              "      <td>World</td>\n",
              "      <td>SITC3</td>\n",
              "      <td>Merchandise - SITC Revision 3 (aggregates)</td>\n",
              "      <td>AG</td>\n",
              "      <td>Agricultural products</td>\n",
              "      <td>A</td>\n",
              "      <td>Annual</td>\n",
              "      <td>A</td>\n",
              "      <td>Annual</td>\n",
              "      <td>USM</td>\n",
              "      <td>Million US dollar</td>\n",
              "      <td>1986</td>\n",
              "      <td>NaN</td>\n",
              "      <td>NaN</td>\n",
              "      <td>844</td>\n",
              "    </tr>\n",
              "    <tr>\n",
              "      <th>2</th>\n",
              "      <td>Merchandise trade values</td>\n",
              "      <td>ITS_MTV_AM</td>\n",
              "      <td>Merchandise imports by product group - annual</td>\n",
              "      <td>414</td>\n",
              "      <td>KWT</td>\n",
              "      <td>Kuwait, the State of</td>\n",
              "      <td>0</td>\n",
              "      <td>NaN</td>\n",
              "      <td>World</td>\n",
              "      <td>SITC3</td>\n",
              "      <td>Merchandise - SITC Revision 3 (aggregates)</td>\n",
              "      <td>AG</td>\n",
              "      <td>Agricultural products</td>\n",
              "      <td>A</td>\n",
              "      <td>Annual</td>\n",
              "      <td>A</td>\n",
              "      <td>Annual</td>\n",
              "      <td>USM</td>\n",
              "      <td>Million US dollar</td>\n",
              "      <td>1987</td>\n",
              "      <td>NaN</td>\n",
              "      <td>NaN</td>\n",
              "      <td>1124</td>\n",
              "    </tr>\n",
              "    <tr>\n",
              "      <th>3</th>\n",
              "      <td>Merchandise trade values</td>\n",
              "      <td>ITS_MTV_AM</td>\n",
              "      <td>Merchandise imports by product group - annual</td>\n",
              "      <td>308</td>\n",
              "      <td>GRD</td>\n",
              "      <td>Grenada</td>\n",
              "      <td>0</td>\n",
              "      <td>NaN</td>\n",
              "      <td>World</td>\n",
              "      <td>SITC3</td>\n",
              "      <td>Merchandise - SITC Revision 3 (aggregates)</td>\n",
              "      <td>AG</td>\n",
              "      <td>Agricultural products</td>\n",
              "      <td>A</td>\n",
              "      <td>Annual</td>\n",
              "      <td>A</td>\n",
              "      <td>Annual</td>\n",
              "      <td>USM</td>\n",
              "      <td>Million US dollar</td>\n",
              "      <td>2010</td>\n",
              "      <td>E</td>\n",
              "      <td>Estimate</td>\n",
              "      <td>73</td>\n",
              "    </tr>\n",
              "    <tr>\n",
              "      <th>4</th>\n",
              "      <td>Merchandise trade values</td>\n",
              "      <td>ITS_MTV_AM</td>\n",
              "      <td>Merchandise imports by product group - annual</td>\n",
              "      <td>414</td>\n",
              "      <td>KWT</td>\n",
              "      <td>Kuwait, the State of</td>\n",
              "      <td>0</td>\n",
              "      <td>NaN</td>\n",
              "      <td>World</td>\n",
              "      <td>SITC3</td>\n",
              "      <td>Merchandise - SITC Revision 3 (aggregates)</td>\n",
              "      <td>AG</td>\n",
              "      <td>Agricultural products</td>\n",
              "      <td>A</td>\n",
              "      <td>Annual</td>\n",
              "      <td>A</td>\n",
              "      <td>Annual</td>\n",
              "      <td>USM</td>\n",
              "      <td>Million US dollar</td>\n",
              "      <td>1984</td>\n",
              "      <td>NaN</td>\n",
              "      <td>NaN</td>\n",
              "      <td>1035</td>\n",
              "    </tr>\n",
              "    <tr>\n",
              "      <th>...</th>\n",
              "      <td>...</td>\n",
              "      <td>...</td>\n",
              "      <td>...</td>\n",
              "      <td>...</td>\n",
              "      <td>...</td>\n",
              "      <td>...</td>\n",
              "      <td>...</td>\n",
              "      <td>...</td>\n",
              "      <td>...</td>\n",
              "      <td>...</td>\n",
              "      <td>...</td>\n",
              "      <td>...</td>\n",
              "      <td>...</td>\n",
              "      <td>...</td>\n",
              "      <td>...</td>\n",
              "      <td>...</td>\n",
              "      <td>...</td>\n",
              "      <td>...</td>\n",
              "      <td>...</td>\n",
              "      <td>...</td>\n",
              "      <td>...</td>\n",
              "      <td>...</td>\n",
              "      <td>...</td>\n",
              "    </tr>\n",
              "    <tr>\n",
              "      <th>543650</th>\n",
              "      <td>Merchandise trade values</td>\n",
              "      <td>ITS_MTV_AX</td>\n",
              "      <td>Merchandise exports by product group and desti...</td>\n",
              "      <td>948</td>\n",
              "      <td>NaN</td>\n",
              "      <td>Four East Asian traders</td>\n",
              "      <td>932</td>\n",
              "      <td>NaN</td>\n",
              "      <td>South and Central America and the Caribbean</td>\n",
              "      <td>SITC3</td>\n",
              "      <td>Merchandise - SITC Revision 3 (aggregates)</td>\n",
              "      <td>TO</td>\n",
              "      <td>Total merchandise</td>\n",
              "      <td>A</td>\n",
              "      <td>Annual</td>\n",
              "      <td>A</td>\n",
              "      <td>Annual</td>\n",
              "      <td>USM</td>\n",
              "      <td>Million US dollar</td>\n",
              "      <td>2012</td>\n",
              "      <td>NaN</td>\n",
              "      <td>NaN</td>\n",
              "      <td>44007</td>\n",
              "    </tr>\n",
              "    <tr>\n",
              "      <th>543651</th>\n",
              "      <td>Merchandise trade values</td>\n",
              "      <td>ITS_MTV_AX</td>\n",
              "      <td>Merchandise exports by product group and desti...</td>\n",
              "      <td>957</td>\n",
              "      <td>NaN</td>\n",
              "      <td>West African Economic and Monetary Union (WAEMU)</td>\n",
              "      <td>840</td>\n",
              "      <td>USA</td>\n",
              "      <td>United States of America</td>\n",
              "      <td>SITC3</td>\n",
              "      <td>Merchandise - SITC Revision 3 (aggregates)</td>\n",
              "      <td>TO</td>\n",
              "      <td>Total merchandise</td>\n",
              "      <td>A</td>\n",
              "      <td>Annual</td>\n",
              "      <td>A</td>\n",
              "      <td>Annual</td>\n",
              "      <td>USM</td>\n",
              "      <td>Million US dollar</td>\n",
              "      <td>2013</td>\n",
              "      <td>NaN</td>\n",
              "      <td>NaN</td>\n",
              "      <td>912</td>\n",
              "    </tr>\n",
              "    <tr>\n",
              "      <th>543652</th>\n",
              "      <td>Merchandise trade values</td>\n",
              "      <td>ITS_MTV_AX</td>\n",
              "      <td>Merchandise exports by product group and desti...</td>\n",
              "      <td>975</td>\n",
              "      <td>NaN</td>\n",
              "      <td>Association of Southeast Asian Nations (ASEAN)</td>\n",
              "      <td>484</td>\n",
              "      <td>MEX</td>\n",
              "      <td>Mexico</td>\n",
              "      <td>SITC3</td>\n",
              "      <td>Merchandise - SITC Revision 3 (aggregates)</td>\n",
              "      <td>TO</td>\n",
              "      <td>Total merchandise</td>\n",
              "      <td>A</td>\n",
              "      <td>Annual</td>\n",
              "      <td>A</td>\n",
              "      <td>Annual</td>\n",
              "      <td>USM</td>\n",
              "      <td>Million US dollar</td>\n",
              "      <td>2013</td>\n",
              "      <td>NaN</td>\n",
              "      <td>NaN</td>\n",
              "      <td>5982</td>\n",
              "    </tr>\n",
              "    <tr>\n",
              "      <th>543653</th>\n",
              "      <td>Merchandise trade values</td>\n",
              "      <td>ITS_MTV_AX</td>\n",
              "      <td>Merchandise exports by product group and desti...</td>\n",
              "      <td>975</td>\n",
              "      <td>NaN</td>\n",
              "      <td>Association of Southeast Asian Nations (ASEAN)</td>\n",
              "      <td>484</td>\n",
              "      <td>MEX</td>\n",
              "      <td>Mexico</td>\n",
              "      <td>SITC3</td>\n",
              "      <td>Merchandise - SITC Revision 3 (aggregates)</td>\n",
              "      <td>TO</td>\n",
              "      <td>Total merchandise</td>\n",
              "      <td>A</td>\n",
              "      <td>Annual</td>\n",
              "      <td>A</td>\n",
              "      <td>Annual</td>\n",
              "      <td>USM</td>\n",
              "      <td>Million US dollar</td>\n",
              "      <td>2014</td>\n",
              "      <td>NaN</td>\n",
              "      <td>NaN</td>\n",
              "      <td>6873</td>\n",
              "    </tr>\n",
              "    <tr>\n",
              "      <th>543654</th>\n",
              "      <td>Merchandise trade values</td>\n",
              "      <td>ITS_MTV_AX</td>\n",
              "      <td>Merchandise exports by product group and desti...</td>\n",
              "      <td>975</td>\n",
              "      <td>NaN</td>\n",
              "      <td>Association of Southeast Asian Nations (ASEAN)</td>\n",
              "      <td>484</td>\n",
              "      <td>MEX</td>\n",
              "      <td>Mexico</td>\n",
              "      <td>SITC3</td>\n",
              "      <td>Merchandise - SITC Revision 3 (aggregates)</td>\n",
              "      <td>TO</td>\n",
              "      <td>Total merchandise</td>\n",
              "      <td>A</td>\n",
              "      <td>Annual</td>\n",
              "      <td>A</td>\n",
              "      <td>Annual</td>\n",
              "      <td>USM</td>\n",
              "      <td>Million US dollar</td>\n",
              "      <td>2015</td>\n",
              "      <td>NaN</td>\n",
              "      <td>NaN</td>\n",
              "      <td>8661</td>\n",
              "    </tr>\n",
              "  </tbody>\n",
              "</table>\n",
              "<p>543655 rows × 23 columns</p>\n",
              "</div>"
            ],
            "text/plain": [
              "               IndicatorCategory IndicatorCode  ... ValueFlag  Value\n",
              "0       Merchandise trade values    ITS_MTV_AM  ...       NaN    722\n",
              "1       Merchandise trade values    ITS_MTV_AM  ...       NaN    844\n",
              "2       Merchandise trade values    ITS_MTV_AM  ...       NaN   1124\n",
              "3       Merchandise trade values    ITS_MTV_AM  ...  Estimate     73\n",
              "4       Merchandise trade values    ITS_MTV_AM  ...       NaN   1035\n",
              "...                          ...           ...  ...       ...    ...\n",
              "543650  Merchandise trade values    ITS_MTV_AX  ...       NaN  44007\n",
              "543651  Merchandise trade values    ITS_MTV_AX  ...       NaN    912\n",
              "543652  Merchandise trade values    ITS_MTV_AX  ...       NaN   5982\n",
              "543653  Merchandise trade values    ITS_MTV_AX  ...       NaN   6873\n",
              "543654  Merchandise trade values    ITS_MTV_AX  ...       NaN   8661\n",
              "\n",
              "[543655 rows x 23 columns]"
            ]
          },
          "metadata": {
            "tags": []
          },
          "execution_count": 3
        }
      ]
    },
    {
      "cell_type": "markdown",
      "metadata": {
        "id": "mlo2HJ2_XPse",
        "colab_type": "text"
      },
      "source": [
        "## **Proses Persiapan Data**"
      ]
    },
    {
      "cell_type": "markdown",
      "metadata": {
        "id": "mUcIrrCIh9Mt",
        "colab_type": "text"
      },
      "source": [
        "### **Hapus atribut yang punya nilai kosong**"
      ]
    },
    {
      "cell_type": "code",
      "metadata": {
        "id": "zYfJzrTzhcfA",
        "colab_type": "code",
        "outputId": "8086c9cc-90f4-44a5-9294-94cbb906c591",
        "colab": {
          "base_uri": "https://localhost:8080/",
          "height": 443
        }
      },
      "source": [
        "dataset.isnull().sum()"
      ],
      "execution_count": 0,
      "outputs": [
        {
          "output_type": "execute_result",
          "data": {
            "text/plain": [
              "IndicatorCategory                 0\n",
              "IndicatorCode                     0\n",
              "Indicator                         0\n",
              "ReporterCode                      0\n",
              "ReporterISO3A                358184\n",
              "Reporter                          0\n",
              "PartnerCode                       0\n",
              "PartnerISO3A                 433565\n",
              "Partner                           0\n",
              "ProductClassificationCode         0\n",
              "ProductClassification             0\n",
              "ProductCode                       0\n",
              "Product                           0\n",
              "PeriodCode                        0\n",
              "Period                            0\n",
              "FrequencyCode                     0\n",
              "Frequency                         0\n",
              "UnitCode                          0\n",
              "Unit                              0\n",
              "Year                              0\n",
              "ValueFlagCode                533107\n",
              "ValueFlag                    533107\n",
              "Value                             0\n",
              "dtype: int64"
            ]
          },
          "metadata": {
            "tags": []
          },
          "execution_count": 4
        }
      ]
    },
    {
      "cell_type": "code",
      "metadata": {
        "id": "QzJt3nX-dPxc",
        "colab_type": "code",
        "colab": {}
      },
      "source": [
        "dataset.drop([\"ReporterISO3A\", \"PartnerISO3A\", \"ValueFlagCode\", \"ValueFlag\",], axis = 1, inplace = True) "
      ],
      "execution_count": 0,
      "outputs": []
    },
    {
      "cell_type": "code",
      "metadata": {
        "id": "_dIMgclyhr8G",
        "colab_type": "code",
        "outputId": "2ef1db8a-b546-4957-a635-2a9e8c01ae01",
        "colab": {
          "base_uri": "https://localhost:8080/",
          "height": 372
        }
      },
      "source": [
        "dataset.isnull().sum()"
      ],
      "execution_count": 0,
      "outputs": [
        {
          "output_type": "execute_result",
          "data": {
            "text/plain": [
              "IndicatorCategory            0\n",
              "IndicatorCode                0\n",
              "Indicator                    0\n",
              "ReporterCode                 0\n",
              "Reporter                     0\n",
              "PartnerCode                  0\n",
              "Partner                      0\n",
              "ProductClassificationCode    0\n",
              "ProductClassification        0\n",
              "ProductCode                  0\n",
              "Product                      0\n",
              "PeriodCode                   0\n",
              "Period                       0\n",
              "FrequencyCode                0\n",
              "Frequency                    0\n",
              "UnitCode                     0\n",
              "Unit                         0\n",
              "Year                         0\n",
              "Value                        0\n",
              "dtype: int64"
            ]
          },
          "metadata": {
            "tags": []
          },
          "execution_count": 6
        }
      ]
    },
    {
      "cell_type": "markdown",
      "metadata": {
        "id": "RY6xhwfliBsl",
        "colab_type": "text"
      },
      "source": [
        "### **penghapusan atribut nilai/makna sama, tidak dibutuhkan, isi yang sama semua**"
      ]
    },
    {
      "cell_type": "code",
      "metadata": {
        "id": "ET4l_LzOhtS1",
        "colab_type": "code",
        "outputId": "d6fc3d10-edb6-4e35-a6a3-a2252093e3ba",
        "colab": {
          "base_uri": "https://localhost:8080/",
          "height": 1000
        }
      },
      "source": [
        "dataset"
      ],
      "execution_count": 0,
      "outputs": [
        {
          "output_type": "execute_result",
          "data": {
            "text/html": [
              "<div>\n",
              "<style scoped>\n",
              "    .dataframe tbody tr th:only-of-type {\n",
              "        vertical-align: middle;\n",
              "    }\n",
              "\n",
              "    .dataframe tbody tr th {\n",
              "        vertical-align: top;\n",
              "    }\n",
              "\n",
              "    .dataframe thead th {\n",
              "        text-align: right;\n",
              "    }\n",
              "</style>\n",
              "<table border=\"1\" class=\"dataframe\">\n",
              "  <thead>\n",
              "    <tr style=\"text-align: right;\">\n",
              "      <th></th>\n",
              "      <th>IndicatorCategory</th>\n",
              "      <th>IndicatorCode</th>\n",
              "      <th>Indicator</th>\n",
              "      <th>ReporterCode</th>\n",
              "      <th>Reporter</th>\n",
              "      <th>PartnerCode</th>\n",
              "      <th>Partner</th>\n",
              "      <th>ProductClassificationCode</th>\n",
              "      <th>ProductClassification</th>\n",
              "      <th>ProductCode</th>\n",
              "      <th>Product</th>\n",
              "      <th>PeriodCode</th>\n",
              "      <th>Period</th>\n",
              "      <th>FrequencyCode</th>\n",
              "      <th>Frequency</th>\n",
              "      <th>UnitCode</th>\n",
              "      <th>Unit</th>\n",
              "      <th>Year</th>\n",
              "      <th>Value</th>\n",
              "    </tr>\n",
              "  </thead>\n",
              "  <tbody>\n",
              "    <tr>\n",
              "      <th>0</th>\n",
              "      <td>Merchandise trade values</td>\n",
              "      <td>ITS_MTV_AM</td>\n",
              "      <td>Merchandise imports by product group - annual</td>\n",
              "      <td>414</td>\n",
              "      <td>Kuwait, the State of</td>\n",
              "      <td>0</td>\n",
              "      <td>World</td>\n",
              "      <td>SITC3</td>\n",
              "      <td>Merchandise - SITC Revision 3 (aggregates)</td>\n",
              "      <td>AG</td>\n",
              "      <td>Agricultural products</td>\n",
              "      <td>A</td>\n",
              "      <td>Annual</td>\n",
              "      <td>A</td>\n",
              "      <td>Annual</td>\n",
              "      <td>USM</td>\n",
              "      <td>Million US dollar</td>\n",
              "      <td>1985</td>\n",
              "      <td>722</td>\n",
              "    </tr>\n",
              "    <tr>\n",
              "      <th>1</th>\n",
              "      <td>Merchandise trade values</td>\n",
              "      <td>ITS_MTV_AM</td>\n",
              "      <td>Merchandise imports by product group - annual</td>\n",
              "      <td>414</td>\n",
              "      <td>Kuwait, the State of</td>\n",
              "      <td>0</td>\n",
              "      <td>World</td>\n",
              "      <td>SITC3</td>\n",
              "      <td>Merchandise - SITC Revision 3 (aggregates)</td>\n",
              "      <td>AG</td>\n",
              "      <td>Agricultural products</td>\n",
              "      <td>A</td>\n",
              "      <td>Annual</td>\n",
              "      <td>A</td>\n",
              "      <td>Annual</td>\n",
              "      <td>USM</td>\n",
              "      <td>Million US dollar</td>\n",
              "      <td>1986</td>\n",
              "      <td>844</td>\n",
              "    </tr>\n",
              "    <tr>\n",
              "      <th>2</th>\n",
              "      <td>Merchandise trade values</td>\n",
              "      <td>ITS_MTV_AM</td>\n",
              "      <td>Merchandise imports by product group - annual</td>\n",
              "      <td>414</td>\n",
              "      <td>Kuwait, the State of</td>\n",
              "      <td>0</td>\n",
              "      <td>World</td>\n",
              "      <td>SITC3</td>\n",
              "      <td>Merchandise - SITC Revision 3 (aggregates)</td>\n",
              "      <td>AG</td>\n",
              "      <td>Agricultural products</td>\n",
              "      <td>A</td>\n",
              "      <td>Annual</td>\n",
              "      <td>A</td>\n",
              "      <td>Annual</td>\n",
              "      <td>USM</td>\n",
              "      <td>Million US dollar</td>\n",
              "      <td>1987</td>\n",
              "      <td>1124</td>\n",
              "    </tr>\n",
              "    <tr>\n",
              "      <th>3</th>\n",
              "      <td>Merchandise trade values</td>\n",
              "      <td>ITS_MTV_AM</td>\n",
              "      <td>Merchandise imports by product group - annual</td>\n",
              "      <td>308</td>\n",
              "      <td>Grenada</td>\n",
              "      <td>0</td>\n",
              "      <td>World</td>\n",
              "      <td>SITC3</td>\n",
              "      <td>Merchandise - SITC Revision 3 (aggregates)</td>\n",
              "      <td>AG</td>\n",
              "      <td>Agricultural products</td>\n",
              "      <td>A</td>\n",
              "      <td>Annual</td>\n",
              "      <td>A</td>\n",
              "      <td>Annual</td>\n",
              "      <td>USM</td>\n",
              "      <td>Million US dollar</td>\n",
              "      <td>2010</td>\n",
              "      <td>73</td>\n",
              "    </tr>\n",
              "    <tr>\n",
              "      <th>4</th>\n",
              "      <td>Merchandise trade values</td>\n",
              "      <td>ITS_MTV_AM</td>\n",
              "      <td>Merchandise imports by product group - annual</td>\n",
              "      <td>414</td>\n",
              "      <td>Kuwait, the State of</td>\n",
              "      <td>0</td>\n",
              "      <td>World</td>\n",
              "      <td>SITC3</td>\n",
              "      <td>Merchandise - SITC Revision 3 (aggregates)</td>\n",
              "      <td>AG</td>\n",
              "      <td>Agricultural products</td>\n",
              "      <td>A</td>\n",
              "      <td>Annual</td>\n",
              "      <td>A</td>\n",
              "      <td>Annual</td>\n",
              "      <td>USM</td>\n",
              "      <td>Million US dollar</td>\n",
              "      <td>1984</td>\n",
              "      <td>1035</td>\n",
              "    </tr>\n",
              "    <tr>\n",
              "      <th>...</th>\n",
              "      <td>...</td>\n",
              "      <td>...</td>\n",
              "      <td>...</td>\n",
              "      <td>...</td>\n",
              "      <td>...</td>\n",
              "      <td>...</td>\n",
              "      <td>...</td>\n",
              "      <td>...</td>\n",
              "      <td>...</td>\n",
              "      <td>...</td>\n",
              "      <td>...</td>\n",
              "      <td>...</td>\n",
              "      <td>...</td>\n",
              "      <td>...</td>\n",
              "      <td>...</td>\n",
              "      <td>...</td>\n",
              "      <td>...</td>\n",
              "      <td>...</td>\n",
              "      <td>...</td>\n",
              "    </tr>\n",
              "    <tr>\n",
              "      <th>543650</th>\n",
              "      <td>Merchandise trade values</td>\n",
              "      <td>ITS_MTV_AX</td>\n",
              "      <td>Merchandise exports by product group and desti...</td>\n",
              "      <td>948</td>\n",
              "      <td>Four East Asian traders</td>\n",
              "      <td>932</td>\n",
              "      <td>South and Central America and the Caribbean</td>\n",
              "      <td>SITC3</td>\n",
              "      <td>Merchandise - SITC Revision 3 (aggregates)</td>\n",
              "      <td>TO</td>\n",
              "      <td>Total merchandise</td>\n",
              "      <td>A</td>\n",
              "      <td>Annual</td>\n",
              "      <td>A</td>\n",
              "      <td>Annual</td>\n",
              "      <td>USM</td>\n",
              "      <td>Million US dollar</td>\n",
              "      <td>2012</td>\n",
              "      <td>44007</td>\n",
              "    </tr>\n",
              "    <tr>\n",
              "      <th>543651</th>\n",
              "      <td>Merchandise trade values</td>\n",
              "      <td>ITS_MTV_AX</td>\n",
              "      <td>Merchandise exports by product group and desti...</td>\n",
              "      <td>957</td>\n",
              "      <td>West African Economic and Monetary Union (WAEMU)</td>\n",
              "      <td>840</td>\n",
              "      <td>United States of America</td>\n",
              "      <td>SITC3</td>\n",
              "      <td>Merchandise - SITC Revision 3 (aggregates)</td>\n",
              "      <td>TO</td>\n",
              "      <td>Total merchandise</td>\n",
              "      <td>A</td>\n",
              "      <td>Annual</td>\n",
              "      <td>A</td>\n",
              "      <td>Annual</td>\n",
              "      <td>USM</td>\n",
              "      <td>Million US dollar</td>\n",
              "      <td>2013</td>\n",
              "      <td>912</td>\n",
              "    </tr>\n",
              "    <tr>\n",
              "      <th>543652</th>\n",
              "      <td>Merchandise trade values</td>\n",
              "      <td>ITS_MTV_AX</td>\n",
              "      <td>Merchandise exports by product group and desti...</td>\n",
              "      <td>975</td>\n",
              "      <td>Association of Southeast Asian Nations (ASEAN)</td>\n",
              "      <td>484</td>\n",
              "      <td>Mexico</td>\n",
              "      <td>SITC3</td>\n",
              "      <td>Merchandise - SITC Revision 3 (aggregates)</td>\n",
              "      <td>TO</td>\n",
              "      <td>Total merchandise</td>\n",
              "      <td>A</td>\n",
              "      <td>Annual</td>\n",
              "      <td>A</td>\n",
              "      <td>Annual</td>\n",
              "      <td>USM</td>\n",
              "      <td>Million US dollar</td>\n",
              "      <td>2013</td>\n",
              "      <td>5982</td>\n",
              "    </tr>\n",
              "    <tr>\n",
              "      <th>543653</th>\n",
              "      <td>Merchandise trade values</td>\n",
              "      <td>ITS_MTV_AX</td>\n",
              "      <td>Merchandise exports by product group and desti...</td>\n",
              "      <td>975</td>\n",
              "      <td>Association of Southeast Asian Nations (ASEAN)</td>\n",
              "      <td>484</td>\n",
              "      <td>Mexico</td>\n",
              "      <td>SITC3</td>\n",
              "      <td>Merchandise - SITC Revision 3 (aggregates)</td>\n",
              "      <td>TO</td>\n",
              "      <td>Total merchandise</td>\n",
              "      <td>A</td>\n",
              "      <td>Annual</td>\n",
              "      <td>A</td>\n",
              "      <td>Annual</td>\n",
              "      <td>USM</td>\n",
              "      <td>Million US dollar</td>\n",
              "      <td>2014</td>\n",
              "      <td>6873</td>\n",
              "    </tr>\n",
              "    <tr>\n",
              "      <th>543654</th>\n",
              "      <td>Merchandise trade values</td>\n",
              "      <td>ITS_MTV_AX</td>\n",
              "      <td>Merchandise exports by product group and desti...</td>\n",
              "      <td>975</td>\n",
              "      <td>Association of Southeast Asian Nations (ASEAN)</td>\n",
              "      <td>484</td>\n",
              "      <td>Mexico</td>\n",
              "      <td>SITC3</td>\n",
              "      <td>Merchandise - SITC Revision 3 (aggregates)</td>\n",
              "      <td>TO</td>\n",
              "      <td>Total merchandise</td>\n",
              "      <td>A</td>\n",
              "      <td>Annual</td>\n",
              "      <td>A</td>\n",
              "      <td>Annual</td>\n",
              "      <td>USM</td>\n",
              "      <td>Million US dollar</td>\n",
              "      <td>2015</td>\n",
              "      <td>8661</td>\n",
              "    </tr>\n",
              "  </tbody>\n",
              "</table>\n",
              "<p>543655 rows × 19 columns</p>\n",
              "</div>"
            ],
            "text/plain": [
              "               IndicatorCategory IndicatorCode  ...  Year  Value\n",
              "0       Merchandise trade values    ITS_MTV_AM  ...  1985    722\n",
              "1       Merchandise trade values    ITS_MTV_AM  ...  1986    844\n",
              "2       Merchandise trade values    ITS_MTV_AM  ...  1987   1124\n",
              "3       Merchandise trade values    ITS_MTV_AM  ...  2010     73\n",
              "4       Merchandise trade values    ITS_MTV_AM  ...  1984   1035\n",
              "...                          ...           ...  ...   ...    ...\n",
              "543650  Merchandise trade values    ITS_MTV_AX  ...  2012  44007\n",
              "543651  Merchandise trade values    ITS_MTV_AX  ...  2013    912\n",
              "543652  Merchandise trade values    ITS_MTV_AX  ...  2013   5982\n",
              "543653  Merchandise trade values    ITS_MTV_AX  ...  2014   6873\n",
              "543654  Merchandise trade values    ITS_MTV_AX  ...  2015   8661\n",
              "\n",
              "[543655 rows x 19 columns]"
            ]
          },
          "metadata": {
            "tags": []
          },
          "execution_count": 7
        }
      ]
    },
    {
      "cell_type": "code",
      "metadata": {
        "id": "Tlq4-Bdgio97",
        "colab_type": "code",
        "outputId": "b62a62d7-ff0f-4562-c497-cf6121ab8fd0",
        "colab": {
          "base_uri": "https://localhost:8080/",
          "height": 1000
        }
      },
      "source": [
        "for col in dataset.columns:\n",
        "    print(col,': ')\n",
        "    print(dataset[col].unique(),'\\n')"
      ],
      "execution_count": 0,
      "outputs": [
        {
          "output_type": "stream",
          "text": [
            "IndicatorCategory : \n",
            "['Merchandise trade values'] \n",
            "\n",
            "IndicatorCode : \n",
            "['ITS_MTV_AM' 'ITS_MTV_AX'] \n",
            "\n",
            "Indicator : \n",
            "['Merchandise imports by product group - annual'\n",
            " 'Merchandise exports by product group and destination - annual'] \n",
            "\n",
            "ReporterCode : \n",
            "[414 308 392 428 410 232 56 320 348 434 12 404 324 328 398 304 440 356 218\n",
            " 372 50 756 422 40 400 532 204 642 894 893 892 638 120 784 886 0 643 862\n",
            " 760 891 736 608 800 858 748 740 214 533 780 604 659 716 705 882 840 662\n",
            " 764 826 887 818 834 242 752 104 384 860 312 798 788 792 591 807 376 678\n",
            " 686 530 724 704 854 890 702 694 446 666 768 450 417 776 682 585 804 710\n",
            " 620 364 646 626 504 624 616 586 352 703 720 360 762 634 266 466 566 690\n",
            " 670 430 498 706 48 270 191 570 508 600 578 278 795 512 230 156 426 540\n",
            " 554 548 516 276 300 598 562 268 528 583 340 68 76 368 558 524 458 470 454\n",
            " 222 462 144 442 418 474 500 484 478 212 72 208 496 152 192 44 112 332 258\n",
            " 480 64 60 52 58 231 178 136 96 51 246 388 32 203 36 233 31 8 84 184 4 70\n",
            " 158 116 90 254 100 124 201 262 380 170 344 132 140 24 288 28 296 108 250\n",
            " 188 174 196 148 260 280 810 180 '044' '084' '090' '100' '028' '076' '070'\n",
            " '000' '893' '036' '360' '214' '112' '050' '108' '442' '372' '116' '566'\n",
            " '862' '426' '462' '554' '780' '788' '792' '450' '417' '740' '548' '120'\n",
            " '398' '512' '124' '804' '440' '072' '222' '807' '484' '380' '776' '144'\n",
            " '854' '422' '152' '894' '156' '500' '004' '231' '158' '140' '466' '012'\n",
            " '132' '296' '703' '764' '258' '174' '344' '690' '516' '188' '191' '288'\n",
            " '524' '840' '024' '196' '096' '204' '756' '892' '784' '212' '242' '762'\n",
            " '246' '384' '266' '682' '268' '218' '233' '434' '626' '600' '533' '300'\n",
            " '250' '446' '704' '702' '270' '620' '304' '328' '616' '608' '340' '192'\n",
            " '504' '348' '352' '428' '276' '388' '496' '356' '710' '659' '705' '716'\n",
            " '736' '646' '528' '586' '454' '031' '232' '724' '624' '508' '320' '400'\n",
            " '410' '414' '604' '404' '203' '798' '768' '752' '882' '887' '795' '890'\n",
            " '860' '800' '760' '670' '891' '818' '638' '748' '474' '810' '498' '720'\n",
            " '834' '591' '392' '686' '858' '666' '642' '104' '694' '578' '530' '643'\n",
            " '598' '826' '570' '585' '706' '662' '886' '634' '364' '278' '562' '678'\n",
            " '480' '068' '558' '430' '540' '583' '470' '230' '368' '376' '458' '208'\n",
            " '478' '262' '060' '040' '178' '052' '056' '064' '051' '332' '058' '048'\n",
            " '032' '008' '312' '184' '308' '254' '324' '201' '280' '170' '418' '180'\n",
            " '148' '532' '136' 'LFX' '983' '986' '905' 'OAS' '535' '918' '941' '938'\n",
            " '965' 'LOX' '944' '977' '970' 'OWE' '796' 'OSE' '985' '923' '942' '534'\n",
            " '932' '292' '937' '940' '408' '981' 'LMX' '966' '927' '900' '975' '910'\n",
            " '584' '962' '964' '316' '950' 'LAX' '961' '020' '016' '980' 'OAF' '660'\n",
            " '520' '959' '580' '902' '226' '876' '772' '948' '982' '531' '997' '931'\n",
            " '949' '958' 'OCI' '957' '939' '260'] \n",
            "\n",
            "Reporter : \n",
            "['Kuwait, the State of' 'Grenada' 'Japan' 'Latvia' 'Korea, Republic of'\n",
            " 'Eritrea' 'Belgium' 'Guatemala' 'Hungary' 'Libya' 'Algeria' 'Kenya'\n",
            " 'Guinea' 'Guyana' 'Kazakhstan' 'Greenland' 'Lithuania' 'India' 'Ecuador'\n",
            " 'Ireland' 'Bangladesh' 'Switzerland' 'Lebanese Republic' 'Austria'\n",
            " 'Jordan' 'Netherlands Antilles (incl. Aruba)' 'Benin' 'Romania' 'Zambia'\n",
            " 'Montenegro' 'Serbia' 'Reunion' 'Cameroon' 'United Arab Emirates'\n",
            " 'Yemen, Arab Republic of' 'World' 'Russian Federation'\n",
            " 'Venezuela, Bolivarian Republic of' 'Syrian Arab Republic'\n",
            " 'Serbia and Montenegro' 'Sudan' 'Philippines' 'Uganda' 'Uruguay'\n",
            " 'Eswatini' 'Suriname' 'Dominican Republic'\n",
            " 'Aruba, the Netherlands with respect to' 'Trinidad and Tobago' 'Peru'\n",
            " 'Saint Kitts and Nevis' 'Zimbabwe' 'Slovenia' 'Samoa'\n",
            " 'United States of America' 'Saint Lucia' 'Thailand' 'United Kingdom'\n",
            " 'Yemen' 'Egypt' 'Tanzania' 'Fiji' 'Sweden' 'Myanmar' \"Côte d'Ivoire\"\n",
            " 'Uzbekistan' 'Guadeloupe' 'Tuvalu' 'Tunisia' 'Turkey' 'Panama'\n",
            " 'North Macedonia' 'Israel' 'Sao Tomé and Principe' 'Senegal'\n",
            " 'Netherlands Antilles' 'Spain' 'Viet Nam' 'Burkina Faso'\n",
            " 'Yugoslavia, Socialist Federal Republic of' 'Singapore' 'Sierra Leone'\n",
            " 'Macao, China' 'Saint Pierre and Miquelon' 'Togo' 'Madagascar'\n",
            " 'Kyrgyz Republic' 'Tonga' 'Saudi Arabia, Kingdom of' 'Palau' 'Ukraine'\n",
            " 'South Africa' 'Portugal' 'Iran' 'Rwanda' 'Timor-Leste' 'Morocco'\n",
            " 'Guinea-Bissau' 'Poland' 'Pakistan' 'Iceland' 'Slovak Republic'\n",
            " \"Yemen, People's Democratic Republic\" 'Indonesia' 'Tajikistan' 'Qatar'\n",
            " 'Gabon' 'Mali' 'Nigeria' 'Seychelles' 'Saint Vincent and the Grenadines'\n",
            " 'Liberia' 'Moldova, Republic of' 'Somalia' 'Bahrain, Kingdom of'\n",
            " 'The Gambia' 'Croatia' 'Niue' 'Mozambique' 'Paraguay' 'Norway'\n",
            " 'German Democratic Republic' 'Turkmenistan' 'Oman' 'Ethiopia (+ Eritrea)'\n",
            " 'China' 'Lesotho' 'New Caledonia' 'New Zealand' 'Vanuatu' 'Namibia'\n",
            " 'Germany' 'Greece' 'Papua New Guinea' 'Niger' 'Georgia' 'Netherlands'\n",
            " 'Micronesia, Federated States of' 'Honduras'\n",
            " 'Bolivia, Plurinational State of' 'Brazil' 'Iraq' 'Nicaragua' 'Nepal'\n",
            " 'Malaysia' 'Malta' 'Malawi' 'El Salvador' 'Maldives' 'Sri Lanka'\n",
            " 'Luxembourg' \"Lao People's Democratic Republic\" 'Martinique' 'Montserrat'\n",
            " 'Mexico' 'Mauritania' 'Dominica' 'Botswana' 'Denmark' 'Mongolia' 'Chile'\n",
            " 'Cuba' 'Bahamas' 'Belarus' 'Haiti' 'French Polynesia' 'Mauritius'\n",
            " 'Bhutan' 'Bermuda' 'Barbados' 'Belgium-Luxembourg' 'Ethiopia' 'Congo'\n",
            " 'Cayman Islands' 'Brunei Darussalam' 'Armenia' 'Finland' 'Jamaica'\n",
            " 'Argentina' 'Czech Republic' 'Australia' 'Estonia' 'Azerbaijan' 'Albania'\n",
            " 'Belize' 'Cook Islands' 'Afghanistan' 'Bosnia and Herzegovina'\n",
            " 'Chinese Taipei' 'Cambodia' 'Solomon Islands' 'French Guiana' 'Bulgaria'\n",
            " 'Canada' 'Czech and Slovak Federal Republic' 'Djibouti' 'Italy'\n",
            " 'Colombia' 'Hong Kong, China' 'Cabo Verde' 'Central African Republic'\n",
            " 'Angola' 'Ghana' 'Antigua and Barbuda' 'Kiribati' 'Burundi' 'France'\n",
            " 'Costa Rica' 'Comoros' 'Cyprus' 'Chad' 'French Southern Territories'\n",
            " 'Germany, Federal Republic of' 'U.S.S.R.'\n",
            " 'Democratic Republic of the Congo' 'LDC non-fuel mineral exporters'\n",
            " 'Australia and New Zealand' 'Africa, CIS and Middle East' 'Europe'\n",
            " 'Other Asia' 'Bonaire, Sint Eustatius and Saba' 'European Union'\n",
            " 'Caribbean Community (CARICOM)' 'Central American Common Market (CACM)'\n",
            " 'Middle East' 'LDC oil exporters'\n",
            " 'Southern Common Market (MERCOSUR) excluding Venezuela, Bolivarian Republic of'\n",
            " 'South Asian Association for Regional Cooperation (SAARC)' 'Asia'\n",
            " 'Non-EU western Europe' 'Turks and Caicos Islands'\n",
            " 'Non-EU south-eastern Europe' 'G-20'\n",
            " 'European Free Trade Association (EFTA)' 'Pacific Alliance'\n",
            " 'Saint Martin' 'South and Central America and the Caribbean' 'Gibraltar'\n",
            " 'Andean Community (ANDEAN)' 'North American Free Trade Agreement (NAFTA)'\n",
            " \"Korea, Democratic People's Republic of\" 'BRIC members'\n",
            " 'LDC exporters of manufactures' 'Gulf Cooperation Council (GCC)'\n",
            " 'Euro Area (19)' 'WTO Members'\n",
            " 'Association of Southeast Asian Nations (ASEAN)'\n",
            " 'Commonwealth of Independent States (CIS), including associate and former member States'\n",
            " 'Marshall Islands' 'African, Caribbean and Pacific States (ACP)'\n",
            " 'Central African Economic and Monetary Community (CAEMC)' 'Guam' 'Africa'\n",
            " 'LDC exporters of agriculture'\n",
            " 'Southern African Development Community (SADC)' 'Andorra'\n",
            " 'American Samoa' 'Asia-Pacific Economic Cooperation (APEC)'\n",
            " 'Other Africa' 'Anguilla' 'Nauru'\n",
            " 'West African Economic Community (ECOWAS)' 'Northern Mariana Islands'\n",
            " 'WTO Observer governments' 'Equatorial Guinea'\n",
            " 'Wallis and Futuna Islands' 'Tokelau' 'Four East Asian traders'\n",
            " 'BRICS members' 'Curaçao' 'Least-developed countries' 'North America'\n",
            " 'Six East Asian traders'\n",
            " 'Common Market for Eastern and Southern Africa (COMESA)' 'Other CIS'\n",
            " 'West African Economic and Monetary Union (WAEMU)'\n",
            " 'Southern Common Market (MERCOSUR)'] \n",
            "\n",
            "PartnerCode : \n",
            "[0 '000' '918' 'EUT' '983' '156' '905' '910' '392' 'AND' 'OWE' 'OCI' '948'\n",
            " '964' 'CEM' '710' 'NAF' '940' 'OAS' '959' '997' 'OAF' '961' 'MER' '939'\n",
            " '957' '975' '958' '076' 'OSE' 'ASE' '970' '643' '965' '356' '937' 'PAC'\n",
            " '942' '932' '950' '484' '931' 'SAD' 'COM' '840' '949' 'ECO' 'WAE' '980'] \n",
            "\n",
            "Partner : \n",
            "['World' 'European Union' 'Extra EU Trade' 'Australia and New Zealand'\n",
            " 'China' 'Europe'\n",
            " 'Commonwealth of Independent States (CIS), including associate and former member States'\n",
            " 'Japan' 'Extra Andean Community Trade' 'Non-EU western Europe'\n",
            " 'Other CIS' 'Four East Asian traders'\n",
            " 'Central African Economic and Monetary Community (CAEMC)'\n",
            " 'Extra CEMAC Trade' 'South Africa' 'Extra NAFTA Trade'\n",
            " 'North American Free Trade Agreement (NAFTA)' 'Other Asia'\n",
            " 'West African Economic Community (ECOWAS)' 'Least-developed countries'\n",
            " 'Other Africa' 'Southern African Development Community (SADC)'\n",
            " 'Extra MERCOSUR Trade' 'Southern Common Market (MERCOSUR)'\n",
            " 'West African Economic and Monetary Union (WAEMU)'\n",
            " 'Association of Southeast Asian Nations (ASEAN)'\n",
            " 'Common Market for Eastern and Southern Africa (COMESA)' 'Brazil'\n",
            " 'Non-EU south-eastern Europe' 'Extra ASEAN Trade' 'Asia'\n",
            " 'Russian Federation' 'Middle East' 'India' 'Andean Community (ANDEAN)'\n",
            " 'Extra Pacific Alliance Trade' 'Pacific Alliance'\n",
            " 'South and Central America and the Caribbean' 'Africa' 'Mexico'\n",
            " 'North America' 'Extra SADC Trade' 'Extra COMESA Trade'\n",
            " 'United States of America' 'Six East Asian traders' 'Extra ECOWAS Trade'\n",
            " 'Extra WAEMU Trade' 'Asia-Pacific Economic Cooperation (APEC)'] \n",
            "\n",
            "ProductClassificationCode : \n",
            "['SITC3'] \n",
            "\n",
            "ProductClassification : \n",
            "['Merchandise - SITC Revision 3 (aggregates)'] \n",
            "\n",
            "ProductCode : \n",
            "['AG' 'AGFO' 'MA' 'MACH' 'MACHPH' 'MACL' 'MAIS' 'MAMT' 'MAMTAU' 'MAMTOF'\n",
            " 'MAMTOTEP' 'MAMTOTIC' 'MAMTOTTL' 'MAMTTE' 'MATE' 'MI' 'MIFU' 'TO'\n",
            " 'AGFOFI' 'AGFOOF' 'AGRA' 'MACHOC' 'MAMTOM' 'MAMTTEOT' 'MAOC' 'MAOCMM'\n",
            " 'MAOCPH' 'MAOCSC' 'MAOS' 'MINF' 'MIOR'] \n",
            "\n",
            "Product : \n",
            "['Agricultural products' 'Food' 'Manufactures' 'Chemicals'\n",
            " 'Pharmaceuticals' 'Clothing' 'Iron and steel'\n",
            " 'Machinery and transport equipment' 'Automotive products'\n",
            " 'Office and telecom equipment'\n",
            " 'Electronic data processing and office equipment'\n",
            " 'Integrated circuits and electronic components'\n",
            " 'Telecommunications equipment' 'Transport equipment' 'Textiles'\n",
            " 'Fuels and mining products' 'Fuels' 'Total merchandise' 'Fish'\n",
            " 'Other food products' 'Raw materials' 'Other chemicals' 'Other machinery'\n",
            " 'Other transport equipment' 'Other manufactures'\n",
            " 'Miscellaneous manufactures' 'Personal and household goods'\n",
            " 'Scientific and controlling instruments' 'Other semi-manufactures'\n",
            " 'Non-ferrous metals' 'Ores and other minerals'] \n",
            "\n",
            "PeriodCode : \n",
            "['A'] \n",
            "\n",
            "Period : \n",
            "['Annual'] \n",
            "\n",
            "FrequencyCode : \n",
            "['A'] \n",
            "\n",
            "Frequency : \n",
            "['Annual'] \n",
            "\n",
            "UnitCode : \n",
            "['USM'] \n",
            "\n",
            "Unit : \n",
            "['Million US dollar'] \n",
            "\n",
            "Year : \n",
            "[1985 1986 1987 2010 1984 1983 1982 1981 1980 2011 2012 1996 1992 1993\n",
            " 1994 1995 2000 2001 2002 2003 2016 2017 2014 2015 1997 1998 2018 2013\n",
            " 1999 2005 2004 2006 2007 2008 2009 1988 1989 1991 1990 1979 2019 1977\n",
            " 1958 1970 1969 1975 1959 1971 1976 1978 1968 1956 1974 1967 1964 1965\n",
            " 1966 1952 1953 1951 1949 1972 1973 1950 1948 1960 1961 1962 1963 1957\n",
            " 1954 1955] \n",
            "\n",
            "Value : \n",
            "[   722    844   1124 ... 398078 420450  44007] \n",
            "\n"
          ],
          "name": "stdout"
        }
      ]
    },
    {
      "cell_type": "code",
      "metadata": {
        "id": "p40dPse-isza",
        "colab_type": "code",
        "colab": {}
      },
      "source": [
        "dataset.drop([\"IndicatorCategory\",\"Reporter\", \"ReporterCode\", \"PartnerCode\", \"Partner\", \"ProductClassificationCode\", \"ProductClassification\", \"Product\", \"PeriodCode\", \"Period\", \"Frequency\", \"FrequencyCode\", \"UnitCode\", \"Unit\", \"Year\"], axis = 1, inplace = True) "
      ],
      "execution_count": 0,
      "outputs": []
    },
    {
      "cell_type": "code",
      "metadata": {
        "id": "tXYlRmSXj1dH",
        "colab_type": "code",
        "outputId": "7c259560-ae64-4858-f336-c781fd0f52be",
        "colab": {
          "base_uri": "https://localhost:8080/",
          "height": 406
        }
      },
      "source": [
        "dataset"
      ],
      "execution_count": 0,
      "outputs": [
        {
          "output_type": "execute_result",
          "data": {
            "text/html": [
              "<div>\n",
              "<style scoped>\n",
              "    .dataframe tbody tr th:only-of-type {\n",
              "        vertical-align: middle;\n",
              "    }\n",
              "\n",
              "    .dataframe tbody tr th {\n",
              "        vertical-align: top;\n",
              "    }\n",
              "\n",
              "    .dataframe thead th {\n",
              "        text-align: right;\n",
              "    }\n",
              "</style>\n",
              "<table border=\"1\" class=\"dataframe\">\n",
              "  <thead>\n",
              "    <tr style=\"text-align: right;\">\n",
              "      <th></th>\n",
              "      <th>IndicatorCode</th>\n",
              "      <th>Indicator</th>\n",
              "      <th>ProductCode</th>\n",
              "      <th>Value</th>\n",
              "    </tr>\n",
              "  </thead>\n",
              "  <tbody>\n",
              "    <tr>\n",
              "      <th>0</th>\n",
              "      <td>ITS_MTV_AM</td>\n",
              "      <td>Merchandise imports by product group - annual</td>\n",
              "      <td>AG</td>\n",
              "      <td>722</td>\n",
              "    </tr>\n",
              "    <tr>\n",
              "      <th>1</th>\n",
              "      <td>ITS_MTV_AM</td>\n",
              "      <td>Merchandise imports by product group - annual</td>\n",
              "      <td>AG</td>\n",
              "      <td>844</td>\n",
              "    </tr>\n",
              "    <tr>\n",
              "      <th>2</th>\n",
              "      <td>ITS_MTV_AM</td>\n",
              "      <td>Merchandise imports by product group - annual</td>\n",
              "      <td>AG</td>\n",
              "      <td>1124</td>\n",
              "    </tr>\n",
              "    <tr>\n",
              "      <th>3</th>\n",
              "      <td>ITS_MTV_AM</td>\n",
              "      <td>Merchandise imports by product group - annual</td>\n",
              "      <td>AG</td>\n",
              "      <td>73</td>\n",
              "    </tr>\n",
              "    <tr>\n",
              "      <th>4</th>\n",
              "      <td>ITS_MTV_AM</td>\n",
              "      <td>Merchandise imports by product group - annual</td>\n",
              "      <td>AG</td>\n",
              "      <td>1035</td>\n",
              "    </tr>\n",
              "    <tr>\n",
              "      <th>...</th>\n",
              "      <td>...</td>\n",
              "      <td>...</td>\n",
              "      <td>...</td>\n",
              "      <td>...</td>\n",
              "    </tr>\n",
              "    <tr>\n",
              "      <th>543650</th>\n",
              "      <td>ITS_MTV_AX</td>\n",
              "      <td>Merchandise exports by product group and desti...</td>\n",
              "      <td>TO</td>\n",
              "      <td>44007</td>\n",
              "    </tr>\n",
              "    <tr>\n",
              "      <th>543651</th>\n",
              "      <td>ITS_MTV_AX</td>\n",
              "      <td>Merchandise exports by product group and desti...</td>\n",
              "      <td>TO</td>\n",
              "      <td>912</td>\n",
              "    </tr>\n",
              "    <tr>\n",
              "      <th>543652</th>\n",
              "      <td>ITS_MTV_AX</td>\n",
              "      <td>Merchandise exports by product group and desti...</td>\n",
              "      <td>TO</td>\n",
              "      <td>5982</td>\n",
              "    </tr>\n",
              "    <tr>\n",
              "      <th>543653</th>\n",
              "      <td>ITS_MTV_AX</td>\n",
              "      <td>Merchandise exports by product group and desti...</td>\n",
              "      <td>TO</td>\n",
              "      <td>6873</td>\n",
              "    </tr>\n",
              "    <tr>\n",
              "      <th>543654</th>\n",
              "      <td>ITS_MTV_AX</td>\n",
              "      <td>Merchandise exports by product group and desti...</td>\n",
              "      <td>TO</td>\n",
              "      <td>8661</td>\n",
              "    </tr>\n",
              "  </tbody>\n",
              "</table>\n",
              "<p>543655 rows × 4 columns</p>\n",
              "</div>"
            ],
            "text/plain": [
              "       IndicatorCode  ...  Value\n",
              "0         ITS_MTV_AM  ...    722\n",
              "1         ITS_MTV_AM  ...    844\n",
              "2         ITS_MTV_AM  ...   1124\n",
              "3         ITS_MTV_AM  ...     73\n",
              "4         ITS_MTV_AM  ...   1035\n",
              "...              ...  ...    ...\n",
              "543650    ITS_MTV_AX  ...  44007\n",
              "543651    ITS_MTV_AX  ...    912\n",
              "543652    ITS_MTV_AX  ...   5982\n",
              "543653    ITS_MTV_AX  ...   6873\n",
              "543654    ITS_MTV_AX  ...   8661\n",
              "\n",
              "[543655 rows x 4 columns]"
            ]
          },
          "metadata": {
            "tags": []
          },
          "execution_count": 10
        }
      ]
    },
    {
      "cell_type": "markdown",
      "metadata": {
        "id": "zdwNljngkJlC",
        "colab_type": "text"
      },
      "source": [
        "### **konversi string ke integer**"
      ]
    },
    {
      "cell_type": "code",
      "metadata": {
        "id": "YlTfWywHkPrp",
        "colab_type": "code",
        "colab": {}
      },
      "source": [
        "from sklearn.preprocessing import LabelEncoder\n",
        "\n",
        "le = LabelEncoder()"
      ],
      "execution_count": 0,
      "outputs": []
    },
    {
      "cell_type": "code",
      "metadata": {
        "id": "5Ax1_6W-j286",
        "colab_type": "code",
        "outputId": "299fa2a8-b9a4-4d49-9c8c-8ad686a45c7a",
        "colab": {
          "base_uri": "https://localhost:8080/",
          "height": 406
        }
      },
      "source": [
        "dataset['IndicatorCode'] = le.fit_transform(dataset.IndicatorCode)\n",
        "dataset"
      ],
      "execution_count": 0,
      "outputs": [
        {
          "output_type": "execute_result",
          "data": {
            "text/html": [
              "<div>\n",
              "<style scoped>\n",
              "    .dataframe tbody tr th:only-of-type {\n",
              "        vertical-align: middle;\n",
              "    }\n",
              "\n",
              "    .dataframe tbody tr th {\n",
              "        vertical-align: top;\n",
              "    }\n",
              "\n",
              "    .dataframe thead th {\n",
              "        text-align: right;\n",
              "    }\n",
              "</style>\n",
              "<table border=\"1\" class=\"dataframe\">\n",
              "  <thead>\n",
              "    <tr style=\"text-align: right;\">\n",
              "      <th></th>\n",
              "      <th>IndicatorCode</th>\n",
              "      <th>Indicator</th>\n",
              "      <th>ProductCode</th>\n",
              "      <th>Value</th>\n",
              "    </tr>\n",
              "  </thead>\n",
              "  <tbody>\n",
              "    <tr>\n",
              "      <th>0</th>\n",
              "      <td>0</td>\n",
              "      <td>Merchandise imports by product group - annual</td>\n",
              "      <td>AG</td>\n",
              "      <td>722</td>\n",
              "    </tr>\n",
              "    <tr>\n",
              "      <th>1</th>\n",
              "      <td>0</td>\n",
              "      <td>Merchandise imports by product group - annual</td>\n",
              "      <td>AG</td>\n",
              "      <td>844</td>\n",
              "    </tr>\n",
              "    <tr>\n",
              "      <th>2</th>\n",
              "      <td>0</td>\n",
              "      <td>Merchandise imports by product group - annual</td>\n",
              "      <td>AG</td>\n",
              "      <td>1124</td>\n",
              "    </tr>\n",
              "    <tr>\n",
              "      <th>3</th>\n",
              "      <td>0</td>\n",
              "      <td>Merchandise imports by product group - annual</td>\n",
              "      <td>AG</td>\n",
              "      <td>73</td>\n",
              "    </tr>\n",
              "    <tr>\n",
              "      <th>4</th>\n",
              "      <td>0</td>\n",
              "      <td>Merchandise imports by product group - annual</td>\n",
              "      <td>AG</td>\n",
              "      <td>1035</td>\n",
              "    </tr>\n",
              "    <tr>\n",
              "      <th>...</th>\n",
              "      <td>...</td>\n",
              "      <td>...</td>\n",
              "      <td>...</td>\n",
              "      <td>...</td>\n",
              "    </tr>\n",
              "    <tr>\n",
              "      <th>543650</th>\n",
              "      <td>1</td>\n",
              "      <td>Merchandise exports by product group and desti...</td>\n",
              "      <td>TO</td>\n",
              "      <td>44007</td>\n",
              "    </tr>\n",
              "    <tr>\n",
              "      <th>543651</th>\n",
              "      <td>1</td>\n",
              "      <td>Merchandise exports by product group and desti...</td>\n",
              "      <td>TO</td>\n",
              "      <td>912</td>\n",
              "    </tr>\n",
              "    <tr>\n",
              "      <th>543652</th>\n",
              "      <td>1</td>\n",
              "      <td>Merchandise exports by product group and desti...</td>\n",
              "      <td>TO</td>\n",
              "      <td>5982</td>\n",
              "    </tr>\n",
              "    <tr>\n",
              "      <th>543653</th>\n",
              "      <td>1</td>\n",
              "      <td>Merchandise exports by product group and desti...</td>\n",
              "      <td>TO</td>\n",
              "      <td>6873</td>\n",
              "    </tr>\n",
              "    <tr>\n",
              "      <th>543654</th>\n",
              "      <td>1</td>\n",
              "      <td>Merchandise exports by product group and desti...</td>\n",
              "      <td>TO</td>\n",
              "      <td>8661</td>\n",
              "    </tr>\n",
              "  </tbody>\n",
              "</table>\n",
              "<p>543655 rows × 4 columns</p>\n",
              "</div>"
            ],
            "text/plain": [
              "        IndicatorCode  ...  Value\n",
              "0                   0  ...    722\n",
              "1                   0  ...    844\n",
              "2                   0  ...   1124\n",
              "3                   0  ...     73\n",
              "4                   0  ...   1035\n",
              "...               ...  ...    ...\n",
              "543650              1  ...  44007\n",
              "543651              1  ...    912\n",
              "543652              1  ...   5982\n",
              "543653              1  ...   6873\n",
              "543654              1  ...   8661\n",
              "\n",
              "[543655 rows x 4 columns]"
            ]
          },
          "metadata": {
            "tags": []
          },
          "execution_count": 12
        }
      ]
    },
    {
      "cell_type": "code",
      "metadata": {
        "id": "ien-P8VFkTeM",
        "colab_type": "code",
        "outputId": "8bf8e5e4-10f8-4a12-c8e2-fff9368f10b3",
        "colab": {
          "base_uri": "https://localhost:8080/",
          "height": 406
        }
      },
      "source": [
        "dataset['Indicator'] = le.fit_transform(dataset.Indicator)\n",
        "dataset"
      ],
      "execution_count": 0,
      "outputs": [
        {
          "output_type": "execute_result",
          "data": {
            "text/html": [
              "<div>\n",
              "<style scoped>\n",
              "    .dataframe tbody tr th:only-of-type {\n",
              "        vertical-align: middle;\n",
              "    }\n",
              "\n",
              "    .dataframe tbody tr th {\n",
              "        vertical-align: top;\n",
              "    }\n",
              "\n",
              "    .dataframe thead th {\n",
              "        text-align: right;\n",
              "    }\n",
              "</style>\n",
              "<table border=\"1\" class=\"dataframe\">\n",
              "  <thead>\n",
              "    <tr style=\"text-align: right;\">\n",
              "      <th></th>\n",
              "      <th>IndicatorCode</th>\n",
              "      <th>Indicator</th>\n",
              "      <th>ProductCode</th>\n",
              "      <th>Value</th>\n",
              "    </tr>\n",
              "  </thead>\n",
              "  <tbody>\n",
              "    <tr>\n",
              "      <th>0</th>\n",
              "      <td>0</td>\n",
              "      <td>1</td>\n",
              "      <td>AG</td>\n",
              "      <td>722</td>\n",
              "    </tr>\n",
              "    <tr>\n",
              "      <th>1</th>\n",
              "      <td>0</td>\n",
              "      <td>1</td>\n",
              "      <td>AG</td>\n",
              "      <td>844</td>\n",
              "    </tr>\n",
              "    <tr>\n",
              "      <th>2</th>\n",
              "      <td>0</td>\n",
              "      <td>1</td>\n",
              "      <td>AG</td>\n",
              "      <td>1124</td>\n",
              "    </tr>\n",
              "    <tr>\n",
              "      <th>3</th>\n",
              "      <td>0</td>\n",
              "      <td>1</td>\n",
              "      <td>AG</td>\n",
              "      <td>73</td>\n",
              "    </tr>\n",
              "    <tr>\n",
              "      <th>4</th>\n",
              "      <td>0</td>\n",
              "      <td>1</td>\n",
              "      <td>AG</td>\n",
              "      <td>1035</td>\n",
              "    </tr>\n",
              "    <tr>\n",
              "      <th>...</th>\n",
              "      <td>...</td>\n",
              "      <td>...</td>\n",
              "      <td>...</td>\n",
              "      <td>...</td>\n",
              "    </tr>\n",
              "    <tr>\n",
              "      <th>543650</th>\n",
              "      <td>1</td>\n",
              "      <td>0</td>\n",
              "      <td>TO</td>\n",
              "      <td>44007</td>\n",
              "    </tr>\n",
              "    <tr>\n",
              "      <th>543651</th>\n",
              "      <td>1</td>\n",
              "      <td>0</td>\n",
              "      <td>TO</td>\n",
              "      <td>912</td>\n",
              "    </tr>\n",
              "    <tr>\n",
              "      <th>543652</th>\n",
              "      <td>1</td>\n",
              "      <td>0</td>\n",
              "      <td>TO</td>\n",
              "      <td>5982</td>\n",
              "    </tr>\n",
              "    <tr>\n",
              "      <th>543653</th>\n",
              "      <td>1</td>\n",
              "      <td>0</td>\n",
              "      <td>TO</td>\n",
              "      <td>6873</td>\n",
              "    </tr>\n",
              "    <tr>\n",
              "      <th>543654</th>\n",
              "      <td>1</td>\n",
              "      <td>0</td>\n",
              "      <td>TO</td>\n",
              "      <td>8661</td>\n",
              "    </tr>\n",
              "  </tbody>\n",
              "</table>\n",
              "<p>543655 rows × 4 columns</p>\n",
              "</div>"
            ],
            "text/plain": [
              "        IndicatorCode  Indicator ProductCode  Value\n",
              "0                   0          1          AG    722\n",
              "1                   0          1          AG    844\n",
              "2                   0          1          AG   1124\n",
              "3                   0          1          AG     73\n",
              "4                   0          1          AG   1035\n",
              "...               ...        ...         ...    ...\n",
              "543650              1          0          TO  44007\n",
              "543651              1          0          TO    912\n",
              "543652              1          0          TO   5982\n",
              "543653              1          0          TO   6873\n",
              "543654              1          0          TO   8661\n",
              "\n",
              "[543655 rows x 4 columns]"
            ]
          },
          "metadata": {
            "tags": []
          },
          "execution_count": 13
        }
      ]
    },
    {
      "cell_type": "code",
      "metadata": {
        "id": "499dHQcqka4R",
        "colab_type": "code",
        "outputId": "84f98c48-7eaa-4f2c-9e5b-a5a7410e90a4",
        "colab": {
          "base_uri": "https://localhost:8080/",
          "height": 406
        }
      },
      "source": [
        "dataset['ProductCode'] = le.fit_transform(dataset.ProductCode)\n",
        "dataset"
      ],
      "execution_count": 0,
      "outputs": [
        {
          "output_type": "execute_result",
          "data": {
            "text/html": [
              "<div>\n",
              "<style scoped>\n",
              "    .dataframe tbody tr th:only-of-type {\n",
              "        vertical-align: middle;\n",
              "    }\n",
              "\n",
              "    .dataframe tbody tr th {\n",
              "        vertical-align: top;\n",
              "    }\n",
              "\n",
              "    .dataframe thead th {\n",
              "        text-align: right;\n",
              "    }\n",
              "</style>\n",
              "<table border=\"1\" class=\"dataframe\">\n",
              "  <thead>\n",
              "    <tr style=\"text-align: right;\">\n",
              "      <th></th>\n",
              "      <th>IndicatorCode</th>\n",
              "      <th>Indicator</th>\n",
              "      <th>ProductCode</th>\n",
              "      <th>Value</th>\n",
              "    </tr>\n",
              "  </thead>\n",
              "  <tbody>\n",
              "    <tr>\n",
              "      <th>0</th>\n",
              "      <td>0</td>\n",
              "      <td>1</td>\n",
              "      <td>0</td>\n",
              "      <td>722</td>\n",
              "    </tr>\n",
              "    <tr>\n",
              "      <th>1</th>\n",
              "      <td>0</td>\n",
              "      <td>1</td>\n",
              "      <td>0</td>\n",
              "      <td>844</td>\n",
              "    </tr>\n",
              "    <tr>\n",
              "      <th>2</th>\n",
              "      <td>0</td>\n",
              "      <td>1</td>\n",
              "      <td>0</td>\n",
              "      <td>1124</td>\n",
              "    </tr>\n",
              "    <tr>\n",
              "      <th>3</th>\n",
              "      <td>0</td>\n",
              "      <td>1</td>\n",
              "      <td>0</td>\n",
              "      <td>73</td>\n",
              "    </tr>\n",
              "    <tr>\n",
              "      <th>4</th>\n",
              "      <td>0</td>\n",
              "      <td>1</td>\n",
              "      <td>0</td>\n",
              "      <td>1035</td>\n",
              "    </tr>\n",
              "    <tr>\n",
              "      <th>...</th>\n",
              "      <td>...</td>\n",
              "      <td>...</td>\n",
              "      <td>...</td>\n",
              "      <td>...</td>\n",
              "    </tr>\n",
              "    <tr>\n",
              "      <th>543650</th>\n",
              "      <td>1</td>\n",
              "      <td>0</td>\n",
              "      <td>30</td>\n",
              "      <td>44007</td>\n",
              "    </tr>\n",
              "    <tr>\n",
              "      <th>543651</th>\n",
              "      <td>1</td>\n",
              "      <td>0</td>\n",
              "      <td>30</td>\n",
              "      <td>912</td>\n",
              "    </tr>\n",
              "    <tr>\n",
              "      <th>543652</th>\n",
              "      <td>1</td>\n",
              "      <td>0</td>\n",
              "      <td>30</td>\n",
              "      <td>5982</td>\n",
              "    </tr>\n",
              "    <tr>\n",
              "      <th>543653</th>\n",
              "      <td>1</td>\n",
              "      <td>0</td>\n",
              "      <td>30</td>\n",
              "      <td>6873</td>\n",
              "    </tr>\n",
              "    <tr>\n",
              "      <th>543654</th>\n",
              "      <td>1</td>\n",
              "      <td>0</td>\n",
              "      <td>30</td>\n",
              "      <td>8661</td>\n",
              "    </tr>\n",
              "  </tbody>\n",
              "</table>\n",
              "<p>543655 rows × 4 columns</p>\n",
              "</div>"
            ],
            "text/plain": [
              "        IndicatorCode  Indicator  ProductCode  Value\n",
              "0                   0          1            0    722\n",
              "1                   0          1            0    844\n",
              "2                   0          1            0   1124\n",
              "3                   0          1            0     73\n",
              "4                   0          1            0   1035\n",
              "...               ...        ...          ...    ...\n",
              "543650              1          0           30  44007\n",
              "543651              1          0           30    912\n",
              "543652              1          0           30   5982\n",
              "543653              1          0           30   6873\n",
              "543654              1          0           30   8661\n",
              "\n",
              "[543655 rows x 4 columns]"
            ]
          },
          "metadata": {
            "tags": []
          },
          "execution_count": 14
        }
      ]
    },
    {
      "cell_type": "code",
      "metadata": {
        "id": "ggBB8PsVked9",
        "colab_type": "code",
        "colab": {}
      },
      "source": [
        "# dataset['ProductCode'] = le.fit_transform(dataset.ProductCode)\n",
        "# dataset"
      ],
      "execution_count": 0,
      "outputs": []
    },
    {
      "cell_type": "markdown",
      "metadata": {
        "id": "tdDm6oJ8l8k5",
        "colab_type": "text"
      },
      "source": [
        "### **penyetaraan range**"
      ]
    },
    {
      "cell_type": "code",
      "metadata": {
        "id": "J7DB8jDrlsT5",
        "colab_type": "code",
        "colab": {}
      },
      "source": [
        "from sklearn.preprocessing import MinMaxScaler\n",
        "\n",
        "scaler = MinMaxScaler(feature_range=(0,10))\n",
        "data_scaled = pd.DataFrame(scaler.fit_transform(dataset),columns=dataset.columns)\n",
        "dataset = data_scaled.round(2)"
      ],
      "execution_count": 0,
      "outputs": []
    },
    {
      "cell_type": "code",
      "metadata": {
        "id": "9g7r3yaPmYn5",
        "colab_type": "code",
        "outputId": "c9c04157-b270-4508-ae11-bdb5c06edbeb",
        "colab": {
          "base_uri": "https://localhost:8080/",
          "height": 406
        }
      },
      "source": [
        "dataset"
      ],
      "execution_count": 0,
      "outputs": [
        {
          "output_type": "execute_result",
          "data": {
            "text/html": [
              "<div>\n",
              "<style scoped>\n",
              "    .dataframe tbody tr th:only-of-type {\n",
              "        vertical-align: middle;\n",
              "    }\n",
              "\n",
              "    .dataframe tbody tr th {\n",
              "        vertical-align: top;\n",
              "    }\n",
              "\n",
              "    .dataframe thead th {\n",
              "        text-align: right;\n",
              "    }\n",
              "</style>\n",
              "<table border=\"1\" class=\"dataframe\">\n",
              "  <thead>\n",
              "    <tr style=\"text-align: right;\">\n",
              "      <th></th>\n",
              "      <th>IndicatorCode</th>\n",
              "      <th>Indicator</th>\n",
              "      <th>ProductCode</th>\n",
              "      <th>Value</th>\n",
              "    </tr>\n",
              "  </thead>\n",
              "  <tbody>\n",
              "    <tr>\n",
              "      <th>0</th>\n",
              "      <td>0.0</td>\n",
              "      <td>10.0</td>\n",
              "      <td>0.0</td>\n",
              "      <td>0.00</td>\n",
              "    </tr>\n",
              "    <tr>\n",
              "      <th>1</th>\n",
              "      <td>0.0</td>\n",
              "      <td>10.0</td>\n",
              "      <td>0.0</td>\n",
              "      <td>0.00</td>\n",
              "    </tr>\n",
              "    <tr>\n",
              "      <th>2</th>\n",
              "      <td>0.0</td>\n",
              "      <td>10.0</td>\n",
              "      <td>0.0</td>\n",
              "      <td>0.00</td>\n",
              "    </tr>\n",
              "    <tr>\n",
              "      <th>3</th>\n",
              "      <td>0.0</td>\n",
              "      <td>10.0</td>\n",
              "      <td>0.0</td>\n",
              "      <td>0.00</td>\n",
              "    </tr>\n",
              "    <tr>\n",
              "      <th>4</th>\n",
              "      <td>0.0</td>\n",
              "      <td>10.0</td>\n",
              "      <td>0.0</td>\n",
              "      <td>0.00</td>\n",
              "    </tr>\n",
              "    <tr>\n",
              "      <th>...</th>\n",
              "      <td>...</td>\n",
              "      <td>...</td>\n",
              "      <td>...</td>\n",
              "      <td>...</td>\n",
              "    </tr>\n",
              "    <tr>\n",
              "      <th>543650</th>\n",
              "      <td>10.0</td>\n",
              "      <td>0.0</td>\n",
              "      <td>10.0</td>\n",
              "      <td>0.02</td>\n",
              "    </tr>\n",
              "    <tr>\n",
              "      <th>543651</th>\n",
              "      <td>10.0</td>\n",
              "      <td>0.0</td>\n",
              "      <td>10.0</td>\n",
              "      <td>0.00</td>\n",
              "    </tr>\n",
              "    <tr>\n",
              "      <th>543652</th>\n",
              "      <td>10.0</td>\n",
              "      <td>0.0</td>\n",
              "      <td>10.0</td>\n",
              "      <td>0.00</td>\n",
              "    </tr>\n",
              "    <tr>\n",
              "      <th>543653</th>\n",
              "      <td>10.0</td>\n",
              "      <td>0.0</td>\n",
              "      <td>10.0</td>\n",
              "      <td>0.00</td>\n",
              "    </tr>\n",
              "    <tr>\n",
              "      <th>543654</th>\n",
              "      <td>10.0</td>\n",
              "      <td>0.0</td>\n",
              "      <td>10.0</td>\n",
              "      <td>0.00</td>\n",
              "    </tr>\n",
              "  </tbody>\n",
              "</table>\n",
              "<p>543655 rows × 4 columns</p>\n",
              "</div>"
            ],
            "text/plain": [
              "        IndicatorCode  Indicator  ProductCode  Value\n",
              "0                 0.0       10.0          0.0   0.00\n",
              "1                 0.0       10.0          0.0   0.00\n",
              "2                 0.0       10.0          0.0   0.00\n",
              "3                 0.0       10.0          0.0   0.00\n",
              "4                 0.0       10.0          0.0   0.00\n",
              "...               ...        ...          ...    ...\n",
              "543650           10.0        0.0         10.0   0.02\n",
              "543651           10.0        0.0         10.0   0.00\n",
              "543652           10.0        0.0         10.0   0.00\n",
              "543653           10.0        0.0         10.0   0.00\n",
              "543654           10.0        0.0         10.0   0.00\n",
              "\n",
              "[543655 rows x 4 columns]"
            ]
          },
          "metadata": {
            "tags": []
          },
          "execution_count": 17
        }
      ]
    },
    {
      "cell_type": "markdown",
      "metadata": {
        "id": "U2WhWF0sQZK0",
        "colab_type": "text"
      },
      "source": [
        "### **hilangkan duplikasi**\n",
        "\n"
      ]
    },
    {
      "cell_type": "code",
      "metadata": {
        "id": "151PJOQ_Qdk4",
        "colab_type": "code",
        "colab": {}
      },
      "source": [
        "# dataset = dataset.drop_duplicates()"
      ],
      "execution_count": 0,
      "outputs": []
    },
    {
      "cell_type": "code",
      "metadata": {
        "id": "USZWoeByQjss",
        "colab_type": "code",
        "colab": {}
      },
      "source": [
        "# dataset"
      ],
      "execution_count": 0,
      "outputs": []
    },
    {
      "cell_type": "markdown",
      "metadata": {
        "id": "h429YSBAmmlx",
        "colab_type": "text"
      },
      "source": [
        "## **Pencarian jumlah kelas optimal dengan metode elbow**"
      ]
    },
    {
      "cell_type": "code",
      "metadata": {
        "id": "_ZRhRGYXmvCE",
        "colab_type": "code",
        "colab": {}
      },
      "source": [
        "from sklearn.cluster import KMeans\n",
        "\n",
        "distortions = []\n",
        "\n",
        "K = range(1,10)\n",
        "for k in K:\n",
        "\n",
        "    kmeanModel = KMeans(n_clusters=k)\n",
        "    kmeanModel.fit(dataset)\n",
        "    distortions.append(kmeanModel.inertia_)"
      ],
      "execution_count": 0,
      "outputs": []
    },
    {
      "cell_type": "code",
      "metadata": {
        "id": "Qg4mnYGzmyaV",
        "colab_type": "code",
        "outputId": "94fd406d-2249-4dd9-a659-24de67ef3b1e",
        "colab": {
          "base_uri": "https://localhost:8080/",
          "height": 513
        }
      },
      "source": [
        "import matplotlib.pyplot as plt \n",
        "\n",
        "plt.figure(figsize=(16,8))\n",
        "plt.plot(K, distortions,c='r')\n",
        "plt.xlabel('k')\n",
        "plt.ylabel('Distortion')\n",
        "plt.title('The Elbow Method showing the optimal k')\n",
        "plt.show()"
      ],
      "execution_count": 0,
      "outputs": [
        {
          "output_type": "display_data",
          "data": {
            "image/png": "[encoded data removed]",
            "text/plain": [
              "<Figure size 1152x576 with 1 Axes>"
            ]
          },
          "metadata": {
            "tags": [],
            "needs_background": "light"
          }
        }
      ]
    },
    {
      "cell_type": "code",
      "metadata": {
        "id": "BQB7IokOojUL",
        "colab_type": "code",
        "colab": {}
      },
      "source": [
        "kmeanModel = KMeans(n_clusters=3)\n",
        "kmeanModel.fit(dataset)\n",
        "centroid = kmeanModel.cluster_centers_"
      ],
      "execution_count": 0,
      "outputs": []
    },
    {
      "cell_type": "markdown",
      "metadata": {
        "id": "jwU9BESEXzZv",
        "colab_type": "text"
      },
      "source": [
        "## **Pemanggilan dataset yang telah digabung dengan kelas**"
      ]
    },
    {
      "cell_type": "code",
      "metadata": {
        "id": "3O6FWe8hVWR6",
        "colab_type": "code",
        "colab": {}
      },
      "source": [
        "dataset = pd.read_csv(r'/content/drive/My Drive/dataset_hasil_persiapan_data.csv')"
      ],
      "execution_count": 0,
      "outputs": []
    },
    {
      "cell_type": "code",
      "metadata": {
        "id": "DS4y3xnzpH5j",
        "colab_type": "code",
        "colab": {}
      },
      "source": [
        "# data_encoded = []\n",
        "\n",
        "# for i in range(0,len(dataset.columns)):\n",
        "    \n",
        "#     data_encoded.append(dataset[dataset.columns[i]])    \n",
        "\n",
        "# dataset = list(zip(*data_encoded))"
      ],
      "execution_count": 0,
      "outputs": []
    },
    {
      "cell_type": "code",
      "metadata": {
        "id": "lyp6j5ANpcIv",
        "colab_type": "code",
        "colab": {}
      },
      "source": [
        "# cluster = []\n",
        "# for i in range (0,len(dataset)):\n",
        "  \n",
        "#   dist = []\n",
        "#   for j in range (0,len(centroid)):\n",
        "#     delta = []\n",
        "#     for k in range (0,len(dataset[i])):\n",
        "#       delta.append((dataset[i][k]-centroid[j][k])**2)\n",
        "    \n",
        "#     nilai_sum = sum(delta)\n",
        "#     dist.append(nilai_sum**(1/2))\n",
        "#   # if dist[0] < dist[1]:\n",
        "#   #   cluster.append(0)\n",
        "#   # elif dist[1] < dist[0]:\n",
        "#   #   cluster.append(1)\n",
        "\n",
        "#   if dist[0] < dist[1] and dist[0] < dist[2]:\n",
        "#     cluster.append(0)\n",
        "#   elif dist[1] < dist[0] and dist[1] < dist[2]:\n",
        "#     cluster.append(1)\n",
        "#   elif dist[2] < dist[0] and dist[2] < dist[1]:\n",
        "#     cluster.append(2)"
      ],
      "execution_count": 0,
      "outputs": []
    },
    {
      "cell_type": "code",
      "metadata": {
        "id": "7lDG1ENeRBD_",
        "colab_type": "code",
        "colab": {}
      },
      "source": [
        "# dataset = pd.DataFrame(data = dataset)\n",
        "# cluster = pd.DataFrame(data = cluster)\n",
        "\n",
        "# dataset = pd.concat([dataset, cluster], axis=1, ignore_index=True)"
      ],
      "execution_count": 0,
      "outputs": []
    },
    {
      "cell_type": "markdown",
      "metadata": {
        "id": "ZuIkv87gWI7x",
        "colab_type": "text"
      },
      "source": [
        "## **Dataset sebelum hilangkan duplikasi**"
      ]
    },
    {
      "cell_type": "code",
      "metadata": {
        "id": "t3F1W_XqRvJD",
        "colab_type": "code",
        "outputId": "620019ee-cd05-4e36-f753-11ad1326e4f4",
        "colab": {
          "base_uri": "https://localhost:8080/",
          "height": 406
        }
      },
      "source": [
        "dataset"
      ],
      "execution_count": 0,
      "outputs": [
        {
          "output_type": "execute_result",
          "data": {
            "text/html": [
              "<div>\n",
              "<style scoped>\n",
              "    .dataframe tbody tr th:only-of-type {\n",
              "        vertical-align: middle;\n",
              "    }\n",
              "\n",
              "    .dataframe tbody tr th {\n",
              "        vertical-align: top;\n",
              "    }\n",
              "\n",
              "    .dataframe thead th {\n",
              "        text-align: right;\n",
              "    }\n",
              "</style>\n",
              "<table border=\"1\" class=\"dataframe\">\n",
              "  <thead>\n",
              "    <tr style=\"text-align: right;\">\n",
              "      <th></th>\n",
              "      <th>IndicatorCode</th>\n",
              "      <th>Indicator</th>\n",
              "      <th>Product</th>\n",
              "      <th>Value</th>\n",
              "      <th>Cluster</th>\n",
              "    </tr>\n",
              "  </thead>\n",
              "  <tbody>\n",
              "    <tr>\n",
              "      <th>0</th>\n",
              "      <td>10.0</td>\n",
              "      <td>0.0</td>\n",
              "      <td>3.12</td>\n",
              "      <td>0.00</td>\n",
              "      <td>0</td>\n",
              "    </tr>\n",
              "    <tr>\n",
              "      <th>1</th>\n",
              "      <td>10.0</td>\n",
              "      <td>0.0</td>\n",
              "      <td>5.14</td>\n",
              "      <td>0.00</td>\n",
              "      <td>0</td>\n",
              "    </tr>\n",
              "    <tr>\n",
              "      <th>2</th>\n",
              "      <td>10.0</td>\n",
              "      <td>0.0</td>\n",
              "      <td>6.70</td>\n",
              "      <td>0.00</td>\n",
              "      <td>0</td>\n",
              "    </tr>\n",
              "    <tr>\n",
              "      <th>3</th>\n",
              "      <td>10.0</td>\n",
              "      <td>0.0</td>\n",
              "      <td>7.83</td>\n",
              "      <td>0.00</td>\n",
              "      <td>0</td>\n",
              "    </tr>\n",
              "    <tr>\n",
              "      <th>4</th>\n",
              "      <td>10.0</td>\n",
              "      <td>0.0</td>\n",
              "      <td>0.58</td>\n",
              "      <td>1.02</td>\n",
              "      <td>0</td>\n",
              "    </tr>\n",
              "    <tr>\n",
              "      <th>...</th>\n",
              "      <td>...</td>\n",
              "      <td>...</td>\n",
              "      <td>...</td>\n",
              "      <td>...</td>\n",
              "      <td>...</td>\n",
              "    </tr>\n",
              "    <tr>\n",
              "      <th>543650</th>\n",
              "      <td>10.0</td>\n",
              "      <td>0.0</td>\n",
              "      <td>2.14</td>\n",
              "      <td>0.00</td>\n",
              "      <td>0</td>\n",
              "    </tr>\n",
              "    <tr>\n",
              "      <th>543651</th>\n",
              "      <td>10.0</td>\n",
              "      <td>0.0</td>\n",
              "      <td>6.63</td>\n",
              "      <td>0.00</td>\n",
              "      <td>0</td>\n",
              "    </tr>\n",
              "    <tr>\n",
              "      <th>543652</th>\n",
              "      <td>10.0</td>\n",
              "      <td>0.0</td>\n",
              "      <td>6.45</td>\n",
              "      <td>0.00</td>\n",
              "      <td>0</td>\n",
              "    </tr>\n",
              "    <tr>\n",
              "      <th>543653</th>\n",
              "      <td>10.0</td>\n",
              "      <td>0.0</td>\n",
              "      <td>1.34</td>\n",
              "      <td>0.00</td>\n",
              "      <td>0</td>\n",
              "    </tr>\n",
              "    <tr>\n",
              "      <th>543654</th>\n",
              "      <td>0.0</td>\n",
              "      <td>10.0</td>\n",
              "      <td>2.07</td>\n",
              "      <td>0.00</td>\n",
              "      <td>2</td>\n",
              "    </tr>\n",
              "  </tbody>\n",
              "</table>\n",
              "<p>543655 rows × 5 columns</p>\n",
              "</div>"
            ],
            "text/plain": [
              "        IndicatorCode  Indicator  Product  Value  Cluster\n",
              "0                10.0        0.0     3.12   0.00        0\n",
              "1                10.0        0.0     5.14   0.00        0\n",
              "2                10.0        0.0     6.70   0.00        0\n",
              "3                10.0        0.0     7.83   0.00        0\n",
              "4                10.0        0.0     0.58   1.02        0\n",
              "...               ...        ...      ...    ...      ...\n",
              "543650           10.0        0.0     2.14   0.00        0\n",
              "543651           10.0        0.0     6.63   0.00        0\n",
              "543652           10.0        0.0     6.45   0.00        0\n",
              "543653           10.0        0.0     1.34   0.00        0\n",
              "543654            0.0       10.0     2.07   0.00        2\n",
              "\n",
              "[543655 rows x 5 columns]"
            ]
          },
          "metadata": {
            "tags": []
          },
          "execution_count": 27
        }
      ]
    },
    {
      "cell_type": "markdown",
      "metadata": {
        "id": "zQmLHaeOWO_Z",
        "colab_type": "text"
      },
      "source": [
        "## **Dataset sesudah hilangkan duplikasi**"
      ]
    },
    {
      "cell_type": "code",
      "metadata": {
        "id": "F49-PeOWRASW",
        "colab_type": "code",
        "colab": {}
      },
      "source": [
        "dataset = dataset.drop_duplicates()"
      ],
      "execution_count": 0,
      "outputs": []
    },
    {
      "cell_type": "code",
      "metadata": {
        "id": "ZDImmes_SV4j",
        "colab_type": "code",
        "outputId": "2a12edba-83f2-40e2-c059-d6c865853108",
        "colab": {
          "base_uri": "https://localhost:8080/",
          "height": 406
        }
      },
      "source": [
        "dataset"
      ],
      "execution_count": 0,
      "outputs": [
        {
          "output_type": "execute_result",
          "data": {
            "text/html": [
              "<div>\n",
              "<style scoped>\n",
              "    .dataframe tbody tr th:only-of-type {\n",
              "        vertical-align: middle;\n",
              "    }\n",
              "\n",
              "    .dataframe tbody tr th {\n",
              "        vertical-align: top;\n",
              "    }\n",
              "\n",
              "    .dataframe thead th {\n",
              "        text-align: right;\n",
              "    }\n",
              "</style>\n",
              "<table border=\"1\" class=\"dataframe\">\n",
              "  <thead>\n",
              "    <tr style=\"text-align: right;\">\n",
              "      <th></th>\n",
              "      <th>IndicatorCode</th>\n",
              "      <th>Indicator</th>\n",
              "      <th>Product</th>\n",
              "      <th>Value</th>\n",
              "      <th>Cluster</th>\n",
              "    </tr>\n",
              "  </thead>\n",
              "  <tbody>\n",
              "    <tr>\n",
              "      <th>0</th>\n",
              "      <td>10.0</td>\n",
              "      <td>0.0</td>\n",
              "      <td>3.12</td>\n",
              "      <td>0.00</td>\n",
              "      <td>0</td>\n",
              "    </tr>\n",
              "    <tr>\n",
              "      <th>1</th>\n",
              "      <td>10.0</td>\n",
              "      <td>0.0</td>\n",
              "      <td>5.14</td>\n",
              "      <td>0.00</td>\n",
              "      <td>0</td>\n",
              "    </tr>\n",
              "    <tr>\n",
              "      <th>2</th>\n",
              "      <td>10.0</td>\n",
              "      <td>0.0</td>\n",
              "      <td>6.70</td>\n",
              "      <td>0.00</td>\n",
              "      <td>0</td>\n",
              "    </tr>\n",
              "    <tr>\n",
              "      <th>3</th>\n",
              "      <td>10.0</td>\n",
              "      <td>0.0</td>\n",
              "      <td>7.83</td>\n",
              "      <td>0.00</td>\n",
              "      <td>0</td>\n",
              "    </tr>\n",
              "    <tr>\n",
              "      <th>4</th>\n",
              "      <td>10.0</td>\n",
              "      <td>0.0</td>\n",
              "      <td>0.58</td>\n",
              "      <td>1.02</td>\n",
              "      <td>0</td>\n",
              "    </tr>\n",
              "    <tr>\n",
              "      <th>...</th>\n",
              "      <td>...</td>\n",
              "      <td>...</td>\n",
              "      <td>...</td>\n",
              "      <td>...</td>\n",
              "      <td>...</td>\n",
              "    </tr>\n",
              "    <tr>\n",
              "      <th>541405</th>\n",
              "      <td>0.0</td>\n",
              "      <td>10.0</td>\n",
              "      <td>3.48</td>\n",
              "      <td>6.11</td>\n",
              "      <td>2</td>\n",
              "    </tr>\n",
              "    <tr>\n",
              "      <th>541989</th>\n",
              "      <td>10.0</td>\n",
              "      <td>0.0</td>\n",
              "      <td>3.19</td>\n",
              "      <td>1.20</td>\n",
              "      <td>0</td>\n",
              "    </tr>\n",
              "    <tr>\n",
              "      <th>542223</th>\n",
              "      <td>0.0</td>\n",
              "      <td>10.0</td>\n",
              "      <td>6.92</td>\n",
              "      <td>0.37</td>\n",
              "      <td>2</td>\n",
              "    </tr>\n",
              "    <tr>\n",
              "      <th>542592</th>\n",
              "      <td>10.0</td>\n",
              "      <td>0.0</td>\n",
              "      <td>0.04</td>\n",
              "      <td>0.23</td>\n",
              "      <td>0</td>\n",
              "    </tr>\n",
              "    <tr>\n",
              "      <th>543539</th>\n",
              "      <td>0.0</td>\n",
              "      <td>10.0</td>\n",
              "      <td>9.60</td>\n",
              "      <td>7.63</td>\n",
              "      <td>1</td>\n",
              "    </tr>\n",
              "  </tbody>\n",
              "</table>\n",
              "<p>4971 rows × 5 columns</p>\n",
              "</div>"
            ],
            "text/plain": [
              "        IndicatorCode  Indicator  Product  Value  Cluster\n",
              "0                10.0        0.0     3.12   0.00        0\n",
              "1                10.0        0.0     5.14   0.00        0\n",
              "2                10.0        0.0     6.70   0.00        0\n",
              "3                10.0        0.0     7.83   0.00        0\n",
              "4                10.0        0.0     0.58   1.02        0\n",
              "...               ...        ...      ...    ...      ...\n",
              "541405            0.0       10.0     3.48   6.11        2\n",
              "541989           10.0        0.0     3.19   1.20        0\n",
              "542223            0.0       10.0     6.92   0.37        2\n",
              "542592           10.0        0.0     0.04   0.23        0\n",
              "543539            0.0       10.0     9.60   7.63        1\n",
              "\n",
              "[4971 rows x 5 columns]"
            ]
          },
          "metadata": {
            "tags": []
          },
          "execution_count": 29
        }
      ]
    },
    {
      "cell_type": "markdown",
      "metadata": {
        "id": "uRNrilemWWyC",
        "colab_type": "text"
      },
      "source": [
        "## **Proses klasifikasi**"
      ]
    },
    {
      "cell_type": "code",
      "metadata": {
        "id": "9FSHKqb9SfhW",
        "colab_type": "code",
        "colab": {}
      },
      "source": [
        "data_encoded = []\n",
        "\n",
        "for i in range(0,len(dataset.columns)-1):\n",
        "    \n",
        "    data_encoded.append(dataset[dataset.columns[i]])    \n",
        "\n",
        "data = list(zip(*data_encoded))"
      ],
      "execution_count": 0,
      "outputs": []
    },
    {
      "cell_type": "code",
      "metadata": {
        "id": "Dr-2nHEyT9rt",
        "colab_type": "code",
        "colab": {}
      },
      "source": [
        "cluster = dataset['Cluster']"
      ],
      "execution_count": 0,
      "outputs": []
    },
    {
      "cell_type": "markdown",
      "metadata": {
        "id": "MZcU4v7cWnx2",
        "colab_type": "text"
      },
      "source": [
        "### **Library yang digunakan pada proses klasifikasi**"
      ]
    },
    {
      "cell_type": "code",
      "metadata": {
        "id": "RN26Husjp4o-",
        "colab_type": "code",
        "colab": {}
      },
      "source": [
        "from sklearn import metrics\n",
        "from sklearn.model_selection import ShuffleSplit\n",
        "from sklearn.model_selection import cross_val_score\n",
        "from sklearn.tree import DecisionTreeClassifier\n",
        "from sklearn.naive_bayes import GaussianNB\n",
        "import statistics\n",
        "from sklearn import svm\n",
        "from sklearn.tree import DecisionTreeClassifier"
      ],
      "execution_count": 0,
      "outputs": []
    },
    {
      "cell_type": "markdown",
      "metadata": {
        "id": "lsMb9VgvWyRS",
        "colab_type": "text"
      },
      "source": [
        "### **Naive Bayes**"
      ]
    },
    {
      "cell_type": "code",
      "metadata": {
        "id": "PX1FQfVNWp0U",
        "colab_type": "code",
        "colab": {}
      },
      "source": [
        "clf = GaussianNB()\n",
        "cv = ShuffleSplit(n_splits=10, test_size=0.3, random_state=0)"
      ],
      "execution_count": 0,
      "outputs": []
    },
    {
      "cell_type": "code",
      "metadata": {
        "id": "3h7A3lf3uAUz",
        "colab_type": "code",
        "outputId": "a33acd88-dc76-49ec-de6e-4533ddece81f",
        "colab": {
          "base_uri": "https://localhost:8080/",
          "height": 34
        }
      },
      "source": [
        "scores = cross_val_score(clf, data, cluster, cv=cv, scoring='accuracy')\n",
        "a = statistics.mean(scores)\n",
        "a"
      ],
      "execution_count": 0,
      "outputs": [
        {
          "output_type": "execute_result",
          "data": {
            "text/plain": [
              "0.9956434316353887"
            ]
          },
          "metadata": {
            "tags": []
          },
          "execution_count": 34
        }
      ]
    },
    {
      "cell_type": "code",
      "metadata": {
        "id": "7IGTgZriJqcn",
        "colab_type": "code",
        "outputId": "9aa1ffa5-bce5-4f20-ce35-d66ab8351a3a",
        "colab": {
          "base_uri": "https://localhost:8080/",
          "height": 34
        }
      },
      "source": [
        "scores = cross_val_score(clf, data, cluster, cv=cv, scoring='recall_macro')\n",
        "a = statistics.mean(scores)\n",
        "a"
      ],
      "execution_count": 0,
      "outputs": [
        {
          "output_type": "execute_result",
          "data": {
            "text/plain": [
              "0.9071715252005107"
            ]
          },
          "metadata": {
            "tags": []
          },
          "execution_count": 35
        }
      ]
    },
    {
      "cell_type": "code",
      "metadata": {
        "id": "O2jJzSMXM9LN",
        "colab_type": "code",
        "outputId": "6144b9de-a3b4-4312-cbb0-444f0910b66a",
        "colab": {
          "base_uri": "https://localhost:8080/",
          "height": 34
        }
      },
      "source": [
        "scores = cross_val_score(clf, data, cluster, cv=cv, scoring='precision_macro')\n",
        "a = statistics.mean(scores)\n",
        "a"
      ],
      "execution_count": 0,
      "outputs": [
        {
          "output_type": "execute_result",
          "data": {
            "text/plain": [
              "0.9970699659296378"
            ]
          },
          "metadata": {
            "tags": []
          },
          "execution_count": 36
        }
      ]
    },
    {
      "cell_type": "code",
      "metadata": {
        "id": "ULzSrebmM9oP",
        "colab_type": "code",
        "outputId": "8ed4626b-7480-4952-9092-9e6fc52b012f",
        "colab": {
          "base_uri": "https://localhost:8080/",
          "height": 34
        }
      },
      "source": [
        "scores = cross_val_score(clf, data, cluster, cv=cv, scoring='precision_macro')\n",
        "a = statistics.mean(scores)\n",
        "a"
      ],
      "execution_count": 0,
      "outputs": [
        {
          "output_type": "execute_result",
          "data": {
            "text/plain": [
              "0.9970699659296378"
            ]
          },
          "metadata": {
            "tags": []
          },
          "execution_count": 37
        }
      ]
    },
    {
      "cell_type": "markdown",
      "metadata": {
        "id": "X3eQca1mW00A",
        "colab_type": "text"
      },
      "source": [
        "### **SVM**"
      ]
    },
    {
      "cell_type": "code",
      "metadata": {
        "id": "oqYecDBsNM2y",
        "colab_type": "code",
        "colab": {}
      },
      "source": [
        "clf = svm.SVC(kernel='linear')\n",
        "cv = ShuffleSplit(n_splits=10, test_size=0.3, random_state=0)"
      ],
      "execution_count": 0,
      "outputs": []
    },
    {
      "cell_type": "code",
      "metadata": {
        "id": "dSoNfIjfNa5q",
        "colab_type": "code",
        "outputId": "a0ac6ab5-03dd-4b75-95ab-4ef34337fa19",
        "colab": {
          "base_uri": "https://localhost:8080/",
          "height": 34
        }
      },
      "source": [
        "scores = cross_val_score(clf, data, cluster, cv=cv, scoring='accuracy')\n",
        "a = statistics.mean(scores)\n",
        "a"
      ],
      "execution_count": 0,
      "outputs": [
        {
          "output_type": "execute_result",
          "data": {
            "text/plain": [
              "0.9980563002680966"
            ]
          },
          "metadata": {
            "tags": []
          },
          "execution_count": 39
        }
      ]
    },
    {
      "cell_type": "code",
      "metadata": {
        "id": "WzR7prwCNcoR",
        "colab_type": "code",
        "outputId": "928d95fe-7bb9-4315-816e-e019a3caa1b6",
        "colab": {
          "base_uri": "https://localhost:8080/",
          "height": 34
        }
      },
      "source": [
        "scores = cross_val_score(clf, data, cluster, cv=cv, scoring='recall_macro')\n",
        "a = statistics.mean(scores)\n",
        "a"
      ],
      "execution_count": 0,
      "outputs": [
        {
          "output_type": "execute_result",
          "data": {
            "text/plain": [
              "0.9716991459396573"
            ]
          },
          "metadata": {
            "tags": []
          },
          "execution_count": 40
        }
      ]
    },
    {
      "cell_type": "code",
      "metadata": {
        "id": "eB9ps1CMNewv",
        "colab_type": "code",
        "outputId": "00190def-74b8-4253-eb29-07ad6c463c28",
        "colab": {
          "base_uri": "https://localhost:8080/",
          "height": 34
        }
      },
      "source": [
        "scores = cross_val_score(clf, data, cluster, cv=cv, scoring='precision_macro')\n",
        "a = statistics.mean(scores)\n",
        "a"
      ],
      "execution_count": 0,
      "outputs": [
        {
          "output_type": "execute_result",
          "data": {
            "text/plain": [
              "0.9846432396792969"
            ]
          },
          "metadata": {
            "tags": []
          },
          "execution_count": 41
        }
      ]
    },
    {
      "cell_type": "code",
      "metadata": {
        "id": "cmmYLRFmNgCs",
        "colab_type": "code",
        "outputId": "69263c70-dd16-4db8-abd2-d7af96f92c9f",
        "colab": {
          "base_uri": "https://localhost:8080/",
          "height": 34
        }
      },
      "source": [
        "scores = cross_val_score(clf, data, cluster, cv=cv, scoring='precision_macro')\n",
        "a = statistics.mean(scores)\n",
        "a"
      ],
      "execution_count": 0,
      "outputs": [
        {
          "output_type": "execute_result",
          "data": {
            "text/plain": [
              "0.9846432396792969"
            ]
          },
          "metadata": {
            "tags": []
          },
          "execution_count": 42
        }
      ]
    },
    {
      "cell_type": "markdown",
      "metadata": {
        "id": "No3c9_1gW39H",
        "colab_type": "text"
      },
      "source": [
        "### **Decision Tree**"
      ]
    },
    {
      "cell_type": "code",
      "metadata": {
        "id": "o681kRkSN1oA",
        "colab_type": "code",
        "colab": {}
      },
      "source": [
        "clf = DecisionTreeClassifier()\n",
        "cv = ShuffleSplit(n_splits=10, test_size=0.3, random_state=0)"
      ],
      "execution_count": 0,
      "outputs": []
    },
    {
      "cell_type": "code",
      "metadata": {
        "id": "qAWQunF3OL1k",
        "colab_type": "code",
        "outputId": "5fa958ca-6ea2-432c-8ec7-c9df152ca321",
        "colab": {
          "base_uri": "https://localhost:8080/",
          "height": 34
        }
      },
      "source": [
        "scores = cross_val_score(clf, data, cluster, cv=cv, scoring='accuracy')\n",
        "a = statistics.mean(scores)\n",
        "a"
      ],
      "execution_count": 0,
      "outputs": [
        {
          "output_type": "execute_result",
          "data": {
            "text/plain": [
              "0.9994638069705094"
            ]
          },
          "metadata": {
            "tags": []
          },
          "execution_count": 44
        }
      ]
    },
    {
      "cell_type": "code",
      "metadata": {
        "id": "k9AumpTLOMlv",
        "colab_type": "code",
        "outputId": "1cd11a60-6e90-4ab3-8e51-d220e75532e2",
        "colab": {
          "base_uri": "https://localhost:8080/",
          "height": 34
        }
      },
      "source": [
        "scores = cross_val_score(clf, data, cluster, cv=cv, scoring='recall_macro')\n",
        "a = statistics.mean(scores)\n",
        "a"
      ],
      "execution_count": 0,
      "outputs": [
        {
          "output_type": "execute_result",
          "data": {
            "text/plain": [
              "0.9896025881229333"
            ]
          },
          "metadata": {
            "tags": []
          },
          "execution_count": 45
        }
      ]
    },
    {
      "cell_type": "code",
      "metadata": {
        "id": "iTBmRdvnOOCp",
        "colab_type": "code",
        "outputId": "69840fcb-1de6-4280-fe92-0a14a1a40f94",
        "colab": {
          "base_uri": "https://localhost:8080/",
          "height": 34
        }
      },
      "source": [
        "scores = cross_val_score(clf, data, cluster, cv=cv, scoring='precision_macro')\n",
        "a = statistics.mean(scores)\n",
        "a"
      ],
      "execution_count": 0,
      "outputs": [
        {
          "output_type": "execute_result",
          "data": {
            "text/plain": [
              "0.997929186330153"
            ]
          },
          "metadata": {
            "tags": []
          },
          "execution_count": 46
        }
      ]
    },
    {
      "cell_type": "code",
      "metadata": {
        "id": "DUx4bu0DOP9Q",
        "colab_type": "code",
        "outputId": "b8e42411-6c26-46bb-af5c-e4bf0b4f7372",
        "colab": {
          "base_uri": "https://localhost:8080/",
          "height": 34
        }
      },
      "source": [
        "scores = cross_val_score(clf, data, cluster, cv=cv, scoring='precision_macro')\n",
        "a = statistics.mean(scores)\n",
        "a"
      ],
      "execution_count": 0,
      "outputs": [
        {
          "output_type": "execute_result",
          "data": {
            "text/plain": [
              "0.997929186330153"
            ]
          },
          "metadata": {
            "tags": []
          },
          "execution_count": 47
        }
      ]
    }
  ]
}